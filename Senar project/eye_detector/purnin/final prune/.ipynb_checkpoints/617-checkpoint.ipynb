{
 "cells": [
  {
   "cell_type": "code",
   "execution_count": 2,
   "metadata": {
    "scrolled": false
   },
   "outputs": [],
   "source": [
    "import tensorflow as tf\n",
    "\n",
    "import tempfile\n",
    "import zipfile\n",
    "import os\n",
    "import numpy as np\n"
   ]
  },
  {
   "cell_type": "code",
   "execution_count": 3,
   "metadata": {},
   "outputs": [
    {
     "name": "stdout",
     "output_type": "stream",
     "text": [
      "x_train shape: (187, 28, 28, 1)\n",
      "187 train samples\n",
      "21 test samples\n"
     ]
    }
   ],
   "source": [
    "from mlxtend.data import loadlocal_mnist\n",
    "(x_train, y_train) = loadlocal_mnist(\n",
    "    images_path='C:/Users/Z/Desktop/pdata/train/28x28-train-images-idx3-ubyte' ,\n",
    "    labels_path='C:/Users/Z/Desktop/pdata/train/28x28-train-labels-idx1-ubyte')\n",
    "\n",
    "(x_test, y_test) = loadlocal_mnist(\n",
    "    images_path='C:/Users/Z/Desktop/pdata/test/28x28-test-images-idx3-ubyte' ,\n",
    "    labels_path='C:/Users/Z/Desktop/pdata/test/28x28-test-labels-idx1-ubyte')\n",
    "# input image dimensions\n",
    "img_rows, img_cols = 28, 28\n",
    "num_classes = 0\n",
    "\n",
    "if tf.keras.backend.image_data_format() == 'channels_first':\n",
    "  x_train = x_train.reshape(x_train.shape[0], 1, img_rows, img_cols)\n",
    "  x_test = x_test.reshape(x_test.shape[0], 1, img_rows, img_cols)\n",
    "  input_shape = (1, img_rows, img_cols)\n",
    "else:\n",
    "  x_train = x_train.reshape(x_train.shape[0], img_rows, img_cols, 1)\n",
    "  x_test = x_test.reshape(x_test.shape[0], img_rows, img_cols, 1)\n",
    "  input_shape = (img_rows, img_cols, 1)\n",
    "\n",
    "x_train = x_train.astype('float32')\n",
    "x_test = x_test.astype('float32')\n",
    "x_train /= 255\n",
    "x_test /= 255\n",
    "print('x_train shape:', x_train.shape)\n",
    "print(x_train.shape[0], 'train samples')\n",
    "print(x_test.shape[0], 'test samples')\n",
    "\n",
    "# convert class vectors to binary class matrices\n",
    "y_train = tf.keras.utils.to_categorical(y_train, num_classes)\n",
    "y_test = tf.keras.utils.to_categorical(y_test, num_classes)"
   ]
  },
  {
   "cell_type": "code",
   "execution_count": 6,
   "metadata": {},
   "outputs": [],
   "source": [
    "# %load_ext tensorboard\n",
    "# import tensorboard"
   ]
  },
  {
   "cell_type": "code",
   "execution_count": 7,
   "metadata": {},
   "outputs": [],
   "source": [
    "from tensorflow.python import keras\n",
    "from tensorflow_model_optimization.sparsity import keras as sparsity"
   ]
  },
  {
   "cell_type": "code",
   "execution_count": 8,
   "metadata": {},
   "outputs": [
    {
     "name": "stdout",
     "output_type": "stream",
     "text": [
      "WARNING:tensorflow:No training configuration found in the save file, so the model was *not* compiled. Compile it manually.\n"
     ]
    }
   ],
   "source": [
    "#for this step, you need to load the perivous model. \n",
    "loaded_model = tf.keras.models.load_model('C:/Users/Z/Desktop/tmpppfnogf4.h5')"
   ]
  },
  {
   "cell_type": "code",
   "execution_count": 9,
   "metadata": {},
   "outputs": [
    {
     "name": "stdout",
     "output_type": "stream",
     "text": [
      "76\n"
     ]
    }
   ],
   "source": [
    "#For this step, we set the epcoh for whole training process. \n",
    "epochs = 4\n",
    "num_train_samples = 186\n",
    "batch_size = 10\n",
    "validation_split=0.1 # 10% of training set will be used for validation set.\n",
    "end_step = np.ceil(1.0 * num_train_samples / batch_size).astype(np.int32) * epochs\n",
    "print(end_step)"
   ]
  },
  {
   "cell_type": "code",
   "execution_count": 10,
   "metadata": {},
   "outputs": [
    {
     "name": "stdout",
     "output_type": "stream",
     "text": [
      "WARNING:tensorflow:From C:\\Users\\Z\\Anaconda3\\lib\\site-packages\\tensorflow_model_optimization\\python\\core\\sparsity\\keras\\pruning_wrapper.py:183: Layer.add_variable (from tensorflow.python.keras.engine.base_layer) is deprecated and will be removed in a future version.\n",
      "Instructions for updating:\n",
      "Please use `layer.add_weight` method instead.\n",
      "Model: \"sequential_17\"\n",
      "_________________________________________________________________\n",
      "Layer (type)                 Output Shape              Param #   \n",
      "=================================================================\n",
      "prune_low_magnitude_conv2d_7 (None, 28, 28, 16)        306       \n",
      "_________________________________________________________________\n",
      "prune_low_magnitude_max_pool (None, 14, 14, 16)        1         \n",
      "_________________________________________________________________\n",
      "prune_low_magnitude_conv2d_7 (None, 14, 14, 32)        9250      \n",
      "_________________________________________________________________\n",
      "prune_low_magnitude_max_pool (None, 7, 7, 32)          1         \n",
      "_________________________________________________________________\n",
      "prune_low_magnitude_conv2d_7 (None, 7, 7, 64)          36930     \n",
      "_________________________________________________________________\n",
      "prune_low_magnitude_max_pool (None, 3, 3, 64)          1         \n",
      "_________________________________________________________________\n",
      "prune_low_magnitude_conv2d_8 (None, 3, 3, 128)         147586    \n",
      "_________________________________________________________________\n",
      "prune_low_magnitude_max_pool (None, 1, 1, 128)         1         \n",
      "_________________________________________________________________\n",
      "prune_low_magnitude_flatten_ (None, 128)               1         \n",
      "_________________________________________________________________\n",
      "prune_low_magnitude_dense_51 (None, 512)               131586    \n",
      "_________________________________________________________________\n",
      "prune_low_magnitude_dense_52 (None, 256)               262402    \n",
      "_________________________________________________________________\n",
      "prune_low_magnitude_dense_53 (None, 2)                 1028      \n",
      "=================================================================\n",
      "Total params: 589,093\n",
      "Trainable params: 295,042\n",
      "Non-trainable params: 294,051\n",
      "_________________________________________________________________\n"
     ]
    }
   ],
   "source": [
    "\n",
    "#In the step, you can start to prune model and compile the prune model for training. The initial_sparsity can change to other number.For\n",
    "#the example, it set sparsity level 50% and gradually train the model to reach 90% sparsity.\n",
    "import tensorflow_model_optimization as tfmot\n",
    "model = loaded_model\n",
    "new_pruning_params = {\n",
    "      'pruning_schedule': sparsity.PolynomialDecay(initial_sparsity=0.50,\n",
    "                                                   final_sparsity=0.90,\n",
    "                                                   begin_step=0,\n",
    "                                                   end_step=end_step,\n",
    "                                                   frequency=100)\n",
    "}\n",
    "\n",
    "model_for_pruning = sparsity.prune_low_magnitude(model, **new_pruning_params)\n",
    "model_for_pruning.summary()\n",
    "\n",
    "model_for_pruning.compile(\n",
    "    loss=tf.keras.losses.categorical_crossentropy,\n",
    "    optimizer='adam',\n",
    "    metrics=['accuracy'])\n"
   ]
  },
  {
   "cell_type": "code",
   "execution_count": 11,
   "metadata": {},
   "outputs": [
    {
     "name": "stdout",
     "output_type": "stream",
     "text": [
      "Epoch 1/4\n",
      "16/17 [===========================>..] - ETA: 0s - loss: 0.3261 - accuracy: 0.8500INFO:tensorflow:Summary name prune_low_magnitude_conv2d_77/mask:0/sparsity is illegal; using prune_low_magnitude_conv2d_77/mask_0/sparsity instead.\n",
      "INFO:tensorflow:Summary name prune_low_magnitude_conv2d_78/mask:0/sparsity is illegal; using prune_low_magnitude_conv2d_78/mask_0/sparsity instead.\n",
      "INFO:tensorflow:Summary name prune_low_magnitude_conv2d_79/mask:0/sparsity is illegal; using prune_low_magnitude_conv2d_79/mask_0/sparsity instead.\n",
      "INFO:tensorflow:Summary name prune_low_magnitude_conv2d_80/mask:0/sparsity is illegal; using prune_low_magnitude_conv2d_80/mask_0/sparsity instead.\n",
      "INFO:tensorflow:Summary name prune_low_magnitude_dense_51/mask:0/sparsity is illegal; using prune_low_magnitude_dense_51/mask_0/sparsity instead.\n",
      "INFO:tensorflow:Summary name prune_low_magnitude_dense_52/mask:0/sparsity is illegal; using prune_low_magnitude_dense_52/mask_0/sparsity instead.\n",
      "INFO:tensorflow:Summary name prune_low_magnitude_dense_53/mask:0/sparsity is illegal; using prune_low_magnitude_dense_53/mask_0/sparsity instead.\n",
      "INFO:tensorflow:Summary name prune_low_magnitude_conv2d_77/threshold:0/threshold is illegal; using prune_low_magnitude_conv2d_77/threshold_0/threshold instead.\n",
      "INFO:tensorflow:Summary name prune_low_magnitude_conv2d_78/threshold:0/threshold is illegal; using prune_low_magnitude_conv2d_78/threshold_0/threshold instead.\n",
      "INFO:tensorflow:Summary name prune_low_magnitude_conv2d_79/threshold:0/threshold is illegal; using prune_low_magnitude_conv2d_79/threshold_0/threshold instead.\n",
      "INFO:tensorflow:Summary name prune_low_magnitude_conv2d_80/threshold:0/threshold is illegal; using prune_low_magnitude_conv2d_80/threshold_0/threshold instead.\n",
      "INFO:tensorflow:Summary name prune_low_magnitude_dense_51/threshold:0/threshold is illegal; using prune_low_magnitude_dense_51/threshold_0/threshold instead.\n",
      "INFO:tensorflow:Summary name prune_low_magnitude_dense_52/threshold:0/threshold is illegal; using prune_low_magnitude_dense_52/threshold_0/threshold instead.\n",
      "INFO:tensorflow:Summary name prune_low_magnitude_dense_53/threshold:0/threshold is illegal; using prune_low_magnitude_dense_53/threshold_0/threshold instead.\n",
      "17/17 [==============================] - 1s 39ms/step - loss: 0.3153 - accuracy: 0.8571 - val_loss: 0.3366 - val_accuracy: 0.8947\n",
      "Epoch 2/4\n",
      "16/17 [===========================>..] - ETA: 0s - loss: 0.1914 - accuracy: 0.9125INFO:tensorflow:Summary name prune_low_magnitude_conv2d_77/mask:0/sparsity is illegal; using prune_low_magnitude_conv2d_77/mask_0/sparsity instead.\n",
      "INFO:tensorflow:Summary name prune_low_magnitude_conv2d_78/mask:0/sparsity is illegal; using prune_low_magnitude_conv2d_78/mask_0/sparsity instead.\n",
      "INFO:tensorflow:Summary name prune_low_magnitude_conv2d_79/mask:0/sparsity is illegal; using prune_low_magnitude_conv2d_79/mask_0/sparsity instead.\n",
      "INFO:tensorflow:Summary name prune_low_magnitude_conv2d_80/mask:0/sparsity is illegal; using prune_low_magnitude_conv2d_80/mask_0/sparsity instead.\n",
      "INFO:tensorflow:Summary name prune_low_magnitude_dense_51/mask:0/sparsity is illegal; using prune_low_magnitude_dense_51/mask_0/sparsity instead.\n",
      "INFO:tensorflow:Summary name prune_low_magnitude_dense_52/mask:0/sparsity is illegal; using prune_low_magnitude_dense_52/mask_0/sparsity instead.\n",
      "INFO:tensorflow:Summary name prune_low_magnitude_dense_53/mask:0/sparsity is illegal; using prune_low_magnitude_dense_53/mask_0/sparsity instead.\n",
      "INFO:tensorflow:Summary name prune_low_magnitude_conv2d_77/threshold:0/threshold is illegal; using prune_low_magnitude_conv2d_77/threshold_0/threshold instead.\n",
      "INFO:tensorflow:Summary name prune_low_magnitude_conv2d_78/threshold:0/threshold is illegal; using prune_low_magnitude_conv2d_78/threshold_0/threshold instead.\n",
      "INFO:tensorflow:Summary name prune_low_magnitude_conv2d_79/threshold:0/threshold is illegal; using prune_low_magnitude_conv2d_79/threshold_0/threshold instead.\n",
      "INFO:tensorflow:Summary name prune_low_magnitude_conv2d_80/threshold:0/threshold is illegal; using prune_low_magnitude_conv2d_80/threshold_0/threshold instead.\n",
      "INFO:tensorflow:Summary name prune_low_magnitude_dense_51/threshold:0/threshold is illegal; using prune_low_magnitude_dense_51/threshold_0/threshold instead.\n",
      "INFO:tensorflow:Summary name prune_low_magnitude_dense_52/threshold:0/threshold is illegal; using prune_low_magnitude_dense_52/threshold_0/threshold instead.\n",
      "INFO:tensorflow:Summary name prune_low_magnitude_dense_53/threshold:0/threshold is illegal; using prune_low_magnitude_dense_53/threshold_0/threshold instead.\n",
      "17/17 [==============================] - 0s 15ms/step - loss: 0.1902 - accuracy: 0.9107 - val_loss: 0.5000 - val_accuracy: 0.8947\n",
      "Epoch 3/4\n",
      "17/17 [==============================] - ETA: 0s - loss: 0.1777 - accuracy: 0.9345INFO:tensorflow:Summary name prune_low_magnitude_conv2d_77/mask:0/sparsity is illegal; using prune_low_magnitude_conv2d_77/mask_0/sparsity instead.\n",
      "INFO:tensorflow:Summary name prune_low_magnitude_conv2d_78/mask:0/sparsity is illegal; using prune_low_magnitude_conv2d_78/mask_0/sparsity instead.\n",
      "INFO:tensorflow:Summary name prune_low_magnitude_conv2d_79/mask:0/sparsity is illegal; using prune_low_magnitude_conv2d_79/mask_0/sparsity instead.\n",
      "INFO:tensorflow:Summary name prune_low_magnitude_conv2d_80/mask:0/sparsity is illegal; using prune_low_magnitude_conv2d_80/mask_0/sparsity instead.\n",
      "INFO:tensorflow:Summary name prune_low_magnitude_dense_51/mask:0/sparsity is illegal; using prune_low_magnitude_dense_51/mask_0/sparsity instead.\n",
      "INFO:tensorflow:Summary name prune_low_magnitude_dense_52/mask:0/sparsity is illegal; using prune_low_magnitude_dense_52/mask_0/sparsity instead.\n",
      "INFO:tensorflow:Summary name prune_low_magnitude_dense_53/mask:0/sparsity is illegal; using prune_low_magnitude_dense_53/mask_0/sparsity instead.\n",
      "INFO:tensorflow:Summary name prune_low_magnitude_conv2d_77/threshold:0/threshold is illegal; using prune_low_magnitude_conv2d_77/threshold_0/threshold instead.\n",
      "INFO:tensorflow:Summary name prune_low_magnitude_conv2d_78/threshold:0/threshold is illegal; using prune_low_magnitude_conv2d_78/threshold_0/threshold instead.\n",
      "INFO:tensorflow:Summary name prune_low_magnitude_conv2d_79/threshold:0/threshold is illegal; using prune_low_magnitude_conv2d_79/threshold_0/threshold instead.\n",
      "INFO:tensorflow:Summary name prune_low_magnitude_conv2d_80/threshold:0/threshold is illegal; using prune_low_magnitude_conv2d_80/threshold_0/threshold instead.\n",
      "INFO:tensorflow:Summary name prune_low_magnitude_dense_51/threshold:0/threshold is illegal; using prune_low_magnitude_dense_51/threshold_0/threshold instead.\n",
      "INFO:tensorflow:Summary name prune_low_magnitude_dense_52/threshold:0/threshold is illegal; using prune_low_magnitude_dense_52/threshold_0/threshold instead.\n",
      "INFO:tensorflow:Summary name prune_low_magnitude_dense_53/threshold:0/threshold is illegal; using prune_low_magnitude_dense_53/threshold_0/threshold instead.\n",
      "17/17 [==============================] - 0s 14ms/step - loss: 0.1777 - accuracy: 0.9345 - val_loss: 0.4083 - val_accuracy: 0.8947\n",
      "Epoch 4/4\n",
      "16/17 [===========================>..] - ETA: 0s - loss: 0.0919 - accuracy: 0.9812INFO:tensorflow:Summary name prune_low_magnitude_conv2d_77/mask:0/sparsity is illegal; using prune_low_magnitude_conv2d_77/mask_0/sparsity instead.\n",
      "INFO:tensorflow:Summary name prune_low_magnitude_conv2d_78/mask:0/sparsity is illegal; using prune_low_magnitude_conv2d_78/mask_0/sparsity instead.\n",
      "INFO:tensorflow:Summary name prune_low_magnitude_conv2d_79/mask:0/sparsity is illegal; using prune_low_magnitude_conv2d_79/mask_0/sparsity instead.\n",
      "INFO:tensorflow:Summary name prune_low_magnitude_conv2d_80/mask:0/sparsity is illegal; using prune_low_magnitude_conv2d_80/mask_0/sparsity instead.\n",
      "INFO:tensorflow:Summary name prune_low_magnitude_dense_51/mask:0/sparsity is illegal; using prune_low_magnitude_dense_51/mask_0/sparsity instead.\n",
      "INFO:tensorflow:Summary name prune_low_magnitude_dense_52/mask:0/sparsity is illegal; using prune_low_magnitude_dense_52/mask_0/sparsity instead.\n",
      "INFO:tensorflow:Summary name prune_low_magnitude_dense_53/mask:0/sparsity is illegal; using prune_low_magnitude_dense_53/mask_0/sparsity instead.\n"
     ]
    },
    {
     "name": "stdout",
     "output_type": "stream",
     "text": [
      "INFO:tensorflow:Summary name prune_low_magnitude_conv2d_77/threshold:0/threshold is illegal; using prune_low_magnitude_conv2d_77/threshold_0/threshold instead.\n",
      "INFO:tensorflow:Summary name prune_low_magnitude_conv2d_78/threshold:0/threshold is illegal; using prune_low_magnitude_conv2d_78/threshold_0/threshold instead.\n",
      "INFO:tensorflow:Summary name prune_low_magnitude_conv2d_79/threshold:0/threshold is illegal; using prune_low_magnitude_conv2d_79/threshold_0/threshold instead.\n",
      "INFO:tensorflow:Summary name prune_low_magnitude_conv2d_80/threshold:0/threshold is illegal; using prune_low_magnitude_conv2d_80/threshold_0/threshold instead.\n",
      "INFO:tensorflow:Summary name prune_low_magnitude_dense_51/threshold:0/threshold is illegal; using prune_low_magnitude_dense_51/threshold_0/threshold instead.\n",
      "INFO:tensorflow:Summary name prune_low_magnitude_dense_52/threshold:0/threshold is illegal; using prune_low_magnitude_dense_52/threshold_0/threshold instead.\n",
      "INFO:tensorflow:Summary name prune_low_magnitude_dense_53/threshold:0/threshold is illegal; using prune_low_magnitude_dense_53/threshold_0/threshold instead.\n",
      "17/17 [==============================] - 0s 15ms/step - loss: 0.0892 - accuracy: 0.9821 - val_loss: 0.4203 - val_accuracy: 0.8947\n"
     ]
    },
    {
     "data": {
      "text/plain": [
       "<tensorflow.python.keras.callbacks.History at 0x1948b7f3488>"
      ]
     },
     "execution_count": 11,
     "metadata": {},
     "output_type": "execute_result"
    }
   ],
   "source": [
    "# Train and evaluate the model against baseline\n",
    "# Fine tune with pruning for two epochs.\n",
    "# tfmot.sparsity.keras.UpdatePruningStep is required during training, \n",
    "# tfmot.sparsity.keras.PruningSummaries provides logs for tracking progress and debugging.\n",
    "\n",
    "logdir = tempfile.mkdtemp()\n",
    "\n",
    "callbacks = [\n",
    "  tfmot.sparsity.keras.UpdatePruningStep(),\n",
    "  tfmot.sparsity.keras.PruningSummaries(log_dir=logdir),\n",
    "]\n",
    "  \n",
    "model_for_pruning.fit(x_train, y_train,\n",
    "                  batch_size=batch_size, epochs=epochs, validation_split=validation_split,\n",
    "                  callbacks=callbacks)"
   ]
  },
  {
   "cell_type": "code",
   "execution_count": 13,
   "metadata": {},
   "outputs": [
    {
     "name": "stdout",
     "output_type": "stream",
     "text": [
      "Saved pruned Keras model to: C:\\Users\\Z\\AppData\\Local\\Temp\\tmpdk39iryh.h5\n"
     ]
    }
   ],
   "source": [
    "model_for_export = tfmot.sparsity.keras.strip_pruning(model_for_pruning)\n",
    "\n",
    "_, pruned_keras_file = tempfile.mkstemp('.h5')\n",
    "tf.keras.models.save_model(model_for_export, pruned_keras_file, include_optimizer=False)\n",
    "print('Saved pruned Keras model to:', pruned_keras_file)"
   ]
  },
  {
   "cell_type": "code",
   "execution_count": 14,
   "metadata": {},
   "outputs": [
    {
     "name": "stdout",
     "output_type": "stream",
     "text": [
      "Saved pruned TFLite model to: C:\\Users\\Z\\AppData\\Local\\Temp\\tmpbzp7yls6.tflite\n"
     ]
    }
   ],
   "source": [
    "converter = tf.lite.TFLiteConverter.from_keras_model(model_for_export)\n",
    "pruned_tflite_model = converter.convert()\n",
    "\n",
    "_, pruned_tflite_file = tempfile.mkstemp('.tflite')\n",
    "\n",
    "with open(pruned_tflite_file, 'wb') as f:\n",
    "  f.write(pruned_tflite_model)\n",
    "\n",
    "print('Saved pruned TFLite model to:', pruned_tflite_file)"
   ]
  },
  {
   "cell_type": "code",
   "execution_count": 15,
   "metadata": {},
   "outputs": [],
   "source": [
    "def get_gzipped_model_size(file):\n",
    "  # Returns size of gzipped model, in bytes.\n",
    "  import os\n",
    "  import zipfile\n",
    "\n",
    "  _, zipped_file = tempfile.mkstemp('.zip')\n",
    "  with zipfile.ZipFile(zipped_file, 'w', compression=zipfile.ZIP_DEFLATED) as f:\n",
    "    f.write(file)\n",
    "\n",
    "  return os.path.getsize(zipped_file)"
   ]
  },
  {
   "cell_type": "code",
   "execution_count": 17,
   "metadata": {},
   "outputs": [
    {
     "name": "stdout",
     "output_type": "stream",
     "text": [
      "Size of gzipped pruned TFlite model: 657479.00 bytes\n"
     ]
    }
   ],
   "source": [
    "\n",
    "\n",
    "print(\"Size of gzipped pruned TFlite model: %.2f bytes\" % (get_gzipped_model_size(pruned_tflite_file)))"
   ]
  },
  {
   "cell_type": "code",
   "execution_count": 19,
   "metadata": {
    "scrolled": false
   },
   "outputs": [
    {
     "name": "stdout",
     "output_type": "stream",
     "text": [
      "Saved quantized and pruned TFLite model to: C:\\Users\\Z\\AppData\\Local\\Temp\\tmpnwpoq2rz.tflite\n"
     ]
    }
   ],
   "source": [
    "converter = tf.lite.TFLiteConverter.from_keras_model(model_for_export)\n",
    "converter.optimizations = [tf.lite.Optimize.DEFAULT]\n",
    "quantized_and_pruned_tflite_model = converter.convert()\n",
    "\n",
    "_, quantized_and_pruned_tflite_file = tempfile.mkstemp('.tflite')\n",
    "\n",
    "with open(quantized_and_pruned_tflite_file, 'wb') as f:\n",
    "  f.write(quantized_and_pruned_tflite_model)\n",
    "\n",
    "print('Saved quantized and pruned TFLite model to:', quantized_and_pruned_tflite_file)\n"
   ]
  },
  {
   "cell_type": "code",
   "execution_count": 12,
   "metadata": {},
   "outputs": [
    {
     "ename": "NameError",
     "evalue": "name 'baseline_model_accuracy' is not defined",
     "output_type": "error",
     "traceback": [
      "\u001b[1;31m---------------------------------------------------------------------------\u001b[0m",
      "\u001b[1;31mNameError\u001b[0m                                 Traceback (most recent call last)",
      "\u001b[1;32m<ipython-input-12-dcef7769f261>\u001b[0m in \u001b[0;36m<module>\u001b[1;34m\u001b[0m\n\u001b[0;32m      2\u001b[0m    x_train, y_train, verbose=0)\n\u001b[0;32m      3\u001b[0m \u001b[1;33m\u001b[0m\u001b[0m\n\u001b[1;32m----> 4\u001b[1;33m \u001b[0mprint\u001b[0m\u001b[1;33m(\u001b[0m\u001b[1;34m'Baseline test accuracy:'\u001b[0m\u001b[1;33m,\u001b[0m \u001b[0mbaseline_model_accuracy\u001b[0m\u001b[1;33m)\u001b[0m\u001b[1;33m\u001b[0m\u001b[1;33m\u001b[0m\u001b[0m\n\u001b[0m\u001b[0;32m      5\u001b[0m \u001b[0mprint\u001b[0m\u001b[1;33m(\u001b[0m\u001b[1;34m'Pruned test accuracy:'\u001b[0m\u001b[1;33m,\u001b[0m \u001b[0mmodel_for_pruning_accuracy\u001b[0m\u001b[1;33m)\u001b[0m\u001b[1;33m\u001b[0m\u001b[1;33m\u001b[0m\u001b[0m\n",
      "\u001b[1;31mNameError\u001b[0m: name 'baseline_model_accuracy' is not defined"
     ]
    }
   ],
   "source": [
    "# _, model_for_pruning_accuracy = model_for_pruning.evaluate(\n",
    "#    x_train, y_train, verbose=0)\n",
    "\n",
    "# print('Baseline test accuracy:', baseline_model_accuracy) \n",
    "# print('Pruned test accuracy:', model_for_pruning_accuracy)"
   ]
  },
  {
   "cell_type": "code",
   "execution_count": 7,
   "metadata": {},
   "outputs": [
    {
     "name": "stdout",
     "output_type": "stream",
     "text": [
      "Writing training logs to C:\\Users\\Z\\AppData\\Local\\Temp\\tmpifau2yir\n"
     ]
    }
   ],
   "source": [
    "# logdir = tempfile.mkdtemp()\n",
    "# print('Writing training logs to ' + logdir)"
   ]
  },
  {
   "cell_type": "code",
   "execution_count": 8,
   "metadata": {},
   "outputs": [],
   "source": [
    "# #load tensorboard to see the data after prune\n",
    "# %tensorboard --logdir={logdir}"
   ]
  },
  {
   "cell_type": "code",
   "execution_count": 9,
   "metadata": {},
   "outputs": [],
   "source": [
    "# callbacks = [\n",
    "#     sparsity.UpdatePruningStep(),\n",
    "#     sparsity.PruningSummaries(log_dir=logdir, profile_batch=0)\n",
    "# ]"
   ]
  },
  {
   "cell_type": "code",
   "execution_count": 10,
   "metadata": {},
   "outputs": [],
   "source": [
    "# from mlxtend.data import loadlocal_mnist"
   ]
  },
  {
   "cell_type": "code",
   "execution_count": 11,
   "metadata": {},
   "outputs": [],
   "source": [
    "# (x_train, y_train) = loadlocal_mnist(\n",
    "#     images_path='C:/Users/Z/Desktop/pdata/train/28x28-train-images-idx3-ubyte' ,\n",
    "#     labels_path='C:/Users/Z/Desktop/pdata/train/28x28-train-labels-idx1-ubyte')\n",
    "\n",
    "# (x_test, y_test) = loadlocal_mnist(\n",
    "#     images_path='C:/Users/Z/Desktop/pdata/test/28x28-test-images-idx3-ubyte' ,\n",
    "#     labels_path='C:/Users/Z/Desktop/pdata/test/28x28-test-labels-idx1-ubyte')"
   ]
  },
  {
   "cell_type": "code",
   "execution_count": 12,
   "metadata": {},
   "outputs": [
    {
     "name": "stdout",
     "output_type": "stream",
     "text": [
      "x_train shape: (187, 28, 28, 1)\n",
      "187 train samples\n",
      "21 test samples\n"
     ]
    }
   ],
   "source": [
    "# # input image dimensions\n",
    "# img_rows, img_cols = 28, 28\n",
    "# num_classes = 0\n",
    "\n",
    "# if tf.keras.backend.image_data_format() == 'channels_first':\n",
    "#   x_train = x_train.reshape(x_train.shape[0], 1, img_rows, img_cols)\n",
    "#   x_test = x_test.reshape(x_test.shape[0], 1, img_rows, img_cols)\n",
    "#   input_shape = (1, img_rows, img_cols)\n",
    "# else:\n",
    "#   x_train = x_train.reshape(x_train.shape[0], img_rows, img_cols, 1)\n",
    "#   x_test = x_test.reshape(x_test.shape[0], img_rows, img_cols, 1)\n",
    "#   input_shape = (img_rows, img_cols, 1)\n",
    "\n",
    "# x_train = x_train.astype('float32')\n",
    "# x_test = x_test.astype('float32')\n",
    "# x_train /= 255\n",
    "# x_test /= 255\n",
    "# print('x_train shape:', x_train.shape)\n",
    "# print(x_train.shape[0], 'train samples')\n",
    "# print(x_test.shape[0], 'test samples')\n",
    "\n",
    "# # convert class vectors to binary class matrices\n",
    "# y_train = tf.keras.utils.to_categorical(y_train, num_classes)\n",
    "# y_test = tf.keras.utils.to_categorical(y_test, num_classes)"
   ]
  },
  {
   "cell_type": "code",
   "execution_count": 13,
   "metadata": {},
   "outputs": [
    {
     "name": "stdout",
     "output_type": "stream",
     "text": [
      "Epoch 1/4\n",
      "16/19 [========================>.....] - ETA: 0s - loss: 0.3065 - accuracy: 0.8750INFO:tensorflow:Summary name prune_low_magnitude_conv2d_77/mask:0/sparsity is illegal; using prune_low_magnitude_conv2d_77/mask_0/sparsity instead.\n",
      "INFO:tensorflow:Summary name prune_low_magnitude_conv2d_78/mask:0/sparsity is illegal; using prune_low_magnitude_conv2d_78/mask_0/sparsity instead.\n",
      "INFO:tensorflow:Summary name prune_low_magnitude_conv2d_79/mask:0/sparsity is illegal; using prune_low_magnitude_conv2d_79/mask_0/sparsity instead.\n",
      "INFO:tensorflow:Summary name prune_low_magnitude_conv2d_80/mask:0/sparsity is illegal; using prune_low_magnitude_conv2d_80/mask_0/sparsity instead.\n",
      "INFO:tensorflow:Summary name prune_low_magnitude_dense_51/mask:0/sparsity is illegal; using prune_low_magnitude_dense_51/mask_0/sparsity instead.\n",
      "INFO:tensorflow:Summary name prune_low_magnitude_dense_52/mask:0/sparsity is illegal; using prune_low_magnitude_dense_52/mask_0/sparsity instead.\n",
      "INFO:tensorflow:Summary name prune_low_magnitude_dense_53/mask:0/sparsity is illegal; using prune_low_magnitude_dense_53/mask_0/sparsity instead.\n",
      "INFO:tensorflow:Summary name prune_low_magnitude_conv2d_77/threshold:0/threshold is illegal; using prune_low_magnitude_conv2d_77/threshold_0/threshold instead.\n",
      "INFO:tensorflow:Summary name prune_low_magnitude_conv2d_78/threshold:0/threshold is illegal; using prune_low_magnitude_conv2d_78/threshold_0/threshold instead.\n",
      "INFO:tensorflow:Summary name prune_low_magnitude_conv2d_79/threshold:0/threshold is illegal; using prune_low_magnitude_conv2d_79/threshold_0/threshold instead.\n",
      "INFO:tensorflow:Summary name prune_low_magnitude_conv2d_80/threshold:0/threshold is illegal; using prune_low_magnitude_conv2d_80/threshold_0/threshold instead.\n",
      "INFO:tensorflow:Summary name prune_low_magnitude_dense_51/threshold:0/threshold is illegal; using prune_low_magnitude_dense_51/threshold_0/threshold instead.\n",
      "INFO:tensorflow:Summary name prune_low_magnitude_dense_52/threshold:0/threshold is illegal; using prune_low_magnitude_dense_52/threshold_0/threshold instead.\n",
      "INFO:tensorflow:Summary name prune_low_magnitude_dense_53/threshold:0/threshold is illegal; using prune_low_magnitude_dense_53/threshold_0/threshold instead.\n",
      "19/19 [==============================] - 1s 33ms/step - loss: 0.3348 - accuracy: 0.8663 - val_loss: 0.7068 - val_accuracy: 0.9524\n",
      "Epoch 2/4\n",
      "19/19 [==============================] - ETA: 0s - loss: 0.2509 - accuracy: 0.9091INFO:tensorflow:Summary name prune_low_magnitude_conv2d_77/mask:0/sparsity is illegal; using prune_low_magnitude_conv2d_77/mask_0/sparsity instead.\n",
      "INFO:tensorflow:Summary name prune_low_magnitude_conv2d_78/mask:0/sparsity is illegal; using prune_low_magnitude_conv2d_78/mask_0/sparsity instead.\n",
      "INFO:tensorflow:Summary name prune_low_magnitude_conv2d_79/mask:0/sparsity is illegal; using prune_low_magnitude_conv2d_79/mask_0/sparsity instead.\n",
      "INFO:tensorflow:Summary name prune_low_magnitude_conv2d_80/mask:0/sparsity is illegal; using prune_low_magnitude_conv2d_80/mask_0/sparsity instead.\n",
      "INFO:tensorflow:Summary name prune_low_magnitude_dense_51/mask:0/sparsity is illegal; using prune_low_magnitude_dense_51/mask_0/sparsity instead.\n",
      "INFO:tensorflow:Summary name prune_low_magnitude_dense_52/mask:0/sparsity is illegal; using prune_low_magnitude_dense_52/mask_0/sparsity instead.\n",
      "INFO:tensorflow:Summary name prune_low_magnitude_dense_53/mask:0/sparsity is illegal; using prune_low_magnitude_dense_53/mask_0/sparsity instead.\n",
      "INFO:tensorflow:Summary name prune_low_magnitude_conv2d_77/threshold:0/threshold is illegal; using prune_low_magnitude_conv2d_77/threshold_0/threshold instead.\n",
      "INFO:tensorflow:Summary name prune_low_magnitude_conv2d_78/threshold:0/threshold is illegal; using prune_low_magnitude_conv2d_78/threshold_0/threshold instead.\n",
      "INFO:tensorflow:Summary name prune_low_magnitude_conv2d_79/threshold:0/threshold is illegal; using prune_low_magnitude_conv2d_79/threshold_0/threshold instead.\n",
      "INFO:tensorflow:Summary name prune_low_magnitude_conv2d_80/threshold:0/threshold is illegal; using prune_low_magnitude_conv2d_80/threshold_0/threshold instead.\n",
      "INFO:tensorflow:Summary name prune_low_magnitude_dense_51/threshold:0/threshold is illegal; using prune_low_magnitude_dense_51/threshold_0/threshold instead.\n",
      "INFO:tensorflow:Summary name prune_low_magnitude_dense_52/threshold:0/threshold is illegal; using prune_low_magnitude_dense_52/threshold_0/threshold instead.\n",
      "INFO:tensorflow:Summary name prune_low_magnitude_dense_53/threshold:0/threshold is illegal; using prune_low_magnitude_dense_53/threshold_0/threshold instead.\n",
      "19/19 [==============================] - 0s 16ms/step - loss: 0.2509 - accuracy: 0.9091 - val_loss: 0.9275 - val_accuracy: 0.8571\n",
      "Epoch 3/4\n",
      "16/19 [========================>.....] - ETA: 0s - loss: 0.1737 - accuracy: 0.9500INFO:tensorflow:Summary name prune_low_magnitude_conv2d_77/mask:0/sparsity is illegal; using prune_low_magnitude_conv2d_77/mask_0/sparsity instead.\n",
      "INFO:tensorflow:Summary name prune_low_magnitude_conv2d_78/mask:0/sparsity is illegal; using prune_low_magnitude_conv2d_78/mask_0/sparsity instead.\n",
      "INFO:tensorflow:Summary name prune_low_magnitude_conv2d_79/mask:0/sparsity is illegal; using prune_low_magnitude_conv2d_79/mask_0/sparsity instead.\n",
      "INFO:tensorflow:Summary name prune_low_magnitude_conv2d_80/mask:0/sparsity is illegal; using prune_low_magnitude_conv2d_80/mask_0/sparsity instead.\n",
      "INFO:tensorflow:Summary name prune_low_magnitude_dense_51/mask:0/sparsity is illegal; using prune_low_magnitude_dense_51/mask_0/sparsity instead.\n",
      "INFO:tensorflow:Summary name prune_low_magnitude_dense_52/mask:0/sparsity is illegal; using prune_low_magnitude_dense_52/mask_0/sparsity instead.\n",
      "INFO:tensorflow:Summary name prune_low_magnitude_dense_53/mask:0/sparsity is illegal; using prune_low_magnitude_dense_53/mask_0/sparsity instead.\n",
      "INFO:tensorflow:Summary name prune_low_magnitude_conv2d_77/threshold:0/threshold is illegal; using prune_low_magnitude_conv2d_77/threshold_0/threshold instead.\n",
      "INFO:tensorflow:Summary name prune_low_magnitude_conv2d_78/threshold:0/threshold is illegal; using prune_low_magnitude_conv2d_78/threshold_0/threshold instead.\n",
      "INFO:tensorflow:Summary name prune_low_magnitude_conv2d_79/threshold:0/threshold is illegal; using prune_low_magnitude_conv2d_79/threshold_0/threshold instead.\n",
      "INFO:tensorflow:Summary name prune_low_magnitude_conv2d_80/threshold:0/threshold is illegal; using prune_low_magnitude_conv2d_80/threshold_0/threshold instead.\n",
      "INFO:tensorflow:Summary name prune_low_magnitude_dense_51/threshold:0/threshold is illegal; using prune_low_magnitude_dense_51/threshold_0/threshold instead.\n",
      "INFO:tensorflow:Summary name prune_low_magnitude_dense_52/threshold:0/threshold is illegal; using prune_low_magnitude_dense_52/threshold_0/threshold instead.\n",
      "INFO:tensorflow:Summary name prune_low_magnitude_dense_53/threshold:0/threshold is illegal; using prune_low_magnitude_dense_53/threshold_0/threshold instead.\n",
      "19/19 [==============================] - 0s 15ms/step - loss: 0.1573 - accuracy: 0.9519 - val_loss: 0.7593 - val_accuracy: 0.9524\n",
      "Epoch 4/4\n",
      "19/19 [==============================] - ETA: 0s - loss: 0.1447 - accuracy: 0.9465INFO:tensorflow:Summary name prune_low_magnitude_conv2d_77/mask:0/sparsity is illegal; using prune_low_magnitude_conv2d_77/mask_0/sparsity instead.\n",
      "INFO:tensorflow:Summary name prune_low_magnitude_conv2d_78/mask:0/sparsity is illegal; using prune_low_magnitude_conv2d_78/mask_0/sparsity instead.\n",
      "INFO:tensorflow:Summary name prune_low_magnitude_conv2d_79/mask:0/sparsity is illegal; using prune_low_magnitude_conv2d_79/mask_0/sparsity instead.\n",
      "INFO:tensorflow:Summary name prune_low_magnitude_conv2d_80/mask:0/sparsity is illegal; using prune_low_magnitude_conv2d_80/mask_0/sparsity instead.\n",
      "INFO:tensorflow:Summary name prune_low_magnitude_dense_51/mask:0/sparsity is illegal; using prune_low_magnitude_dense_51/mask_0/sparsity instead.\n",
      "INFO:tensorflow:Summary name prune_low_magnitude_dense_52/mask:0/sparsity is illegal; using prune_low_magnitude_dense_52/mask_0/sparsity instead.\n",
      "INFO:tensorflow:Summary name prune_low_magnitude_dense_53/mask:0/sparsity is illegal; using prune_low_magnitude_dense_53/mask_0/sparsity instead.\n"
     ]
    },
    {
     "name": "stdout",
     "output_type": "stream",
     "text": [
      "INFO:tensorflow:Summary name prune_low_magnitude_conv2d_77/threshold:0/threshold is illegal; using prune_low_magnitude_conv2d_77/threshold_0/threshold instead.\n",
      "INFO:tensorflow:Summary name prune_low_magnitude_conv2d_78/threshold:0/threshold is illegal; using prune_low_magnitude_conv2d_78/threshold_0/threshold instead.\n",
      "INFO:tensorflow:Summary name prune_low_magnitude_conv2d_79/threshold:0/threshold is illegal; using prune_low_magnitude_conv2d_79/threshold_0/threshold instead.\n",
      "INFO:tensorflow:Summary name prune_low_magnitude_conv2d_80/threshold:0/threshold is illegal; using prune_low_magnitude_conv2d_80/threshold_0/threshold instead.\n",
      "INFO:tensorflow:Summary name prune_low_magnitude_dense_51/threshold:0/threshold is illegal; using prune_low_magnitude_dense_51/threshold_0/threshold instead.\n",
      "INFO:tensorflow:Summary name prune_low_magnitude_dense_52/threshold:0/threshold is illegal; using prune_low_magnitude_dense_52/threshold_0/threshold instead.\n",
      "INFO:tensorflow:Summary name prune_low_magnitude_dense_53/threshold:0/threshold is illegal; using prune_low_magnitude_dense_53/threshold_0/threshold instead.\n",
      "19/19 [==============================] - 0s 18ms/step - loss: 0.1447 - accuracy: 0.9465 - val_loss: 0.0736 - val_accuracy: 1.0000\n",
      "Test loss: 0.03981856629252434\n",
      "Test accuracy: 1.0\n"
     ]
    }
   ],
   "source": [
    "# callbacks = [\n",
    "#     sparsity.UpdatePruningStep(),\n",
    "#     sparsity.PruningSummaries(log_dir=logdir, profile_batch=0)\n",
    "# ]\n",
    "\n",
    "# model_for_pruning.fit(x_train, y_train,\n",
    "#           batch_size=batch_size,\n",
    "#           epochs=epochs,\n",
    "#           verbose=1,\n",
    "#           callbacks=callbacks,\n",
    "#           validation_data=(x_test, y_test))\n",
    "\n",
    "# score = model_for_pruning.evaluate(x_test, y_test, verbose=0)\n",
    "# print('Test loss:', score[0])\n",
    "# print('Test accuracy:', score[1])"
   ]
  },
  {
   "cell_type": "code",
   "execution_count": 21,
   "metadata": {},
   "outputs": [
    {
     "name": "stdout",
     "output_type": "stream",
     "text": [
      "Model: \"sequential_17\"\n",
      "_________________________________________________________________\n",
      "Layer (type)                 Output Shape              Param #   \n",
      "=================================================================\n",
      "conv2d_77 (Conv2D)           (None, 28, 28, 16)        160       \n",
      "_________________________________________________________________\n",
      "max_pooling2d_77 (MaxPooling (None, 14, 14, 16)        0         \n",
      "_________________________________________________________________\n",
      "conv2d_78 (Conv2D)           (None, 14, 14, 32)        4640      \n",
      "_________________________________________________________________\n",
      "max_pooling2d_78 (MaxPooling (None, 7, 7, 32)          0         \n",
      "_________________________________________________________________\n",
      "conv2d_79 (Conv2D)           (None, 7, 7, 64)          18496     \n",
      "_________________________________________________________________\n",
      "max_pooling2d_79 (MaxPooling (None, 3, 3, 64)          0         \n",
      "_________________________________________________________________\n",
      "conv2d_80 (Conv2D)           (None, 3, 3, 128)         73856     \n",
      "_________________________________________________________________\n",
      "max_pooling2d_80 (MaxPooling (None, 1, 1, 128)         0         \n",
      "_________________________________________________________________\n",
      "flatten_17 (Flatten)         (None, 128)               0         \n",
      "_________________________________________________________________\n",
      "dense_51 (Dense)             (None, 512)               66048     \n",
      "_________________________________________________________________\n",
      "dense_52 (Dense)             (None, 256)               131328    \n",
      "_________________________________________________________________\n",
      "dense_53 (Dense)             (None, 2)                 514       \n",
      "=================================================================\n",
      "Total params: 295,042\n",
      "Trainable params: 295,042\n",
      "Non-trainable params: 0\n",
      "_________________________________________________________________\n"
     ]
    }
   ],
   "source": [
    "# final_model = sparsity.strip_pruning(model_for_pruning)\n",
    "# final_model.summary()"
   ]
  },
  {
   "cell_type": "code",
   "execution_count": 22,
   "metadata": {},
   "outputs": [
    {
     "name": "stdout",
     "output_type": "stream",
     "text": [
      "Saving pruned model to:  C:\\Users\\Z\\AppData\\Local\\Temp\\tmp9viutn0k.h5\n"
     ]
    }
   ],
   "source": [
    "# _, new_pruned_keras_file = tempfile.mkstemp('.h5')\n",
    "# print('Saving pruned model to: ', new_pruned_keras_file)\n",
    "# tf.keras.models.save_model(final_model, new_pruned_keras_file, include_optimizer=False)"
   ]
  },
  {
   "cell_type": "code",
   "execution_count": 26,
   "metadata": {},
   "outputs": [
    {
     "name": "stdout",
     "output_type": "stream",
     "text": [
      "Size of the pruned model before compression: 1.16 Mb\n",
      "Size of the pruned model after compression: 0.63 Mb\n"
     ]
    }
   ],
   "source": [
    "# _, zip3 = tempfile.mkstemp('.zip')\n",
    "# with zipfile.ZipFile(zip3, 'w', compression=zipfile.ZIP_DEFLATED) as f:\n",
    "#   f.write(new_pruned_keras_file)\n",
    "# print(\"Size of the pruned model before compression: %.2f Mb\" \n",
    "#       % (os.path.getsize(new_pruned_keras_file) / float(2**20)))\n",
    "# print(\"Size of the pruned model after compression: %.2f Mb\" \n",
    "#       % (os.path.getsize(zip3) / float(2**20)))"
   ]
  },
  {
   "cell_type": "code",
   "execution_count": null,
   "metadata": {},
   "outputs": [],
   "source": []
  },
  {
   "cell_type": "code",
   "execution_count": null,
   "metadata": {},
   "outputs": [],
   "source": []
  }
 ],
 "metadata": {
  "kernelspec": {
   "display_name": "Python 3",
   "language": "python",
   "name": "python3"
  },
  "language_info": {
   "codemirror_mode": {
    "name": "ipython",
    "version": 3
   },
   "file_extension": ".py",
   "mimetype": "text/x-python",
   "name": "python",
   "nbconvert_exporter": "python",
   "pygments_lexer": "ipython3",
   "version": "3.7.4"
  }
 },
 "nbformat": 4,
 "nbformat_minor": 2
}
