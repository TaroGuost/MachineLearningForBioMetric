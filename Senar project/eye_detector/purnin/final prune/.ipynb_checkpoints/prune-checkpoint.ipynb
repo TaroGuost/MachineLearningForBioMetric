{
 "cells": [
  {
   "cell_type": "code",
   "execution_count": 1,
   "metadata": {
    "scrolled": false
   },
   "outputs": [],
   "source": [
    "import tensorflow as tf\n",
    "\n",
    "import tempfile\n",
    "import zipfile\n",
    "import os\n",
    "import numpy as np\n"
   ]
  },
  {
   "cell_type": "code",
   "execution_count": 2,
   "metadata": {},
   "outputs": [],
   "source": [
    "# %load_ext tensorboard\n",
    "# import tensorboard"
   ]
  },
  {
   "cell_type": "code",
   "execution_count": 3,
   "metadata": {},
   "outputs": [],
   "source": [
    "from tensorflow.python import keras\n",
    "from tensorflow_model_optimization.sparsity import keras as sparsity"
   ]
  },
  {
   "cell_type": "code",
   "execution_count": 4,
   "metadata": {},
   "outputs": [
    {
     "name": "stdout",
     "output_type": "stream",
     "text": [
      "WARNING:tensorflow:No training configuration found in the save file, so the model was *not* compiled. Compile it manually.\n"
     ]
    }
   ],
   "source": [
    "#for this step, you need to load the perivous model. \n",
    "loaded_model = tf.keras.models.load_model('C:/Users/Z/Desktop/tmpppfnogf4.h5')"
   ]
  },
  {
   "cell_type": "code",
   "execution_count": 5,
   "metadata": {},
   "outputs": [
    {
     "name": "stdout",
     "output_type": "stream",
     "text": [
      "76\n"
     ]
    }
   ],
   "source": [
    "#For this step, we set the epcoh for whole training process. \n",
    "epochs = 4\n",
    "num_train_samples = 186\n",
    "batch_size = 10\n",
    "end_step = np.ceil(1.0 * num_train_samples / batch_size).astype(np.int32) * epochs\n",
    "print(end_step)"
   ]
  },
  {
   "cell_type": "code",
   "execution_count": 6,
   "metadata": {},
   "outputs": [
    {
     "name": "stdout",
     "output_type": "stream",
     "text": [
      "WARNING:tensorflow:From C:\\Users\\Z\\Anaconda3\\lib\\site-packages\\tensorflow_model_optimization\\python\\core\\sparsity\\keras\\pruning_wrapper.py:183: Layer.add_variable (from tensorflow.python.keras.engine.base_layer) is deprecated and will be removed in a future version.\n",
      "Instructions for updating:\n",
      "Please use `layer.add_weight` method instead.\n",
      "Model: \"sequential_17\"\n",
      "_________________________________________________________________\n",
      "Layer (type)                 Output Shape              Param #   \n",
      "=================================================================\n",
      "prune_low_magnitude_conv2d_7 (None, 28, 28, 16)        306       \n",
      "_________________________________________________________________\n",
      "prune_low_magnitude_max_pool (None, 14, 14, 16)        1         \n",
      "_________________________________________________________________\n",
      "prune_low_magnitude_conv2d_7 (None, 14, 14, 32)        9250      \n",
      "_________________________________________________________________\n",
      "prune_low_magnitude_max_pool (None, 7, 7, 32)          1         \n",
      "_________________________________________________________________\n",
      "prune_low_magnitude_conv2d_7 (None, 7, 7, 64)          36930     \n",
      "_________________________________________________________________\n",
      "prune_low_magnitude_max_pool (None, 3, 3, 64)          1         \n",
      "_________________________________________________________________\n",
      "prune_low_magnitude_conv2d_8 (None, 3, 3, 128)         147586    \n",
      "_________________________________________________________________\n",
      "prune_low_magnitude_max_pool (None, 1, 1, 128)         1         \n",
      "_________________________________________________________________\n",
      "prune_low_magnitude_flatten_ (None, 128)               1         \n",
      "_________________________________________________________________\n",
      "prune_low_magnitude_dense_51 (None, 512)               131586    \n",
      "_________________________________________________________________\n",
      "prune_low_magnitude_dense_52 (None, 256)               262402    \n",
      "_________________________________________________________________\n",
      "prune_low_magnitude_dense_53 (None, 2)                 1028      \n",
      "=================================================================\n",
      "Total params: 589,093\n",
      "Trainable params: 295,042\n",
      "Non-trainable params: 294,051\n",
      "_________________________________________________________________\n"
     ]
    }
   ],
   "source": [
    "#In the step, you can start to prune model and compile the prune model for training. The initial_sparsity can change to other number.For\n",
    "#the example, it set sparsity level 50% and gradually train the model to reach 90% sparsity.\n",
    "model = loaded_model\n",
    "new_pruning_params = {\n",
    "      'pruning_schedule': sparsity.PolynomialDecay(initial_sparsity=0.50,\n",
    "                                                   final_sparsity=0.90,\n",
    "                                                   begin_step=0,\n",
    "                                                   end_step=end_step,\n",
    "                                                   frequency=100)\n",
    "}\n",
    "\n",
    "new_pruned_model = sparsity.prune_low_magnitude(model, **new_pruning_params)\n",
    "new_pruned_model.summary()\n",
    "\n",
    "new_pruned_model.compile(\n",
    "    loss=tf.keras.losses.categorical_crossentropy,\n",
    "    optimizer='adam',\n",
    "    metrics=['accuracy'])\n"
   ]
  },
  {
   "cell_type": "code",
   "execution_count": 7,
   "metadata": {},
   "outputs": [
    {
     "name": "stdout",
     "output_type": "stream",
     "text": [
      "Writing training logs to C:\\Users\\Z\\AppData\\Local\\Temp\\tmpjgli_wn7\n"
     ]
    }
   ],
   "source": [
    "logdir = tempfile.mkdtemp()\n",
    "print('Writing training logs to ' + logdir)"
   ]
  },
  {
   "cell_type": "code",
   "execution_count": 8,
   "metadata": {},
   "outputs": [],
   "source": [
    "# #load tensorboard to see the data after prune\n",
    "# %tensorboard --logdir={logdir}"
   ]
  },
  {
   "cell_type": "code",
   "execution_count": 9,
   "metadata": {},
   "outputs": [],
   "source": [
    "callbacks = [\n",
    "    sparsity.UpdatePruningStep(),\n",
    "    sparsity.PruningSummaries(log_dir=logdir, profile_batch=0)\n",
    "]"
   ]
  },
  {
   "cell_type": "code",
   "execution_count": 10,
   "metadata": {},
   "outputs": [],
   "source": [
    "from mlxtend.data import loadlocal_mnist"
   ]
  },
  {
   "cell_type": "code",
   "execution_count": 11,
   "metadata": {},
   "outputs": [],
   "source": [
    "(x_train, y_train) = loadlocal_mnist(\n",
    "    images_path='C:/Users/Z/Desktop/pdata/train/28x28-train-images-idx3-ubyte' ,\n",
    "    labels_path='C:/Users/Z/Desktop/pdata/train/28x28-train-labels-idx1-ubyte')\n",
    "\n",
    "(x_test, y_test) = loadlocal_mnist(\n",
    "    images_path='C:/Users/Z/Desktop/pdata/test/28x28-test-images-idx3-ubyte' ,\n",
    "    labels_path='C:/Users/Z/Desktop/pdata/test/28x28-test-labels-idx1-ubyte')"
   ]
  },
  {
   "cell_type": "code",
   "execution_count": 12,
   "metadata": {},
   "outputs": [
    {
     "name": "stdout",
     "output_type": "stream",
     "text": [
      "x_train shape: (187, 28, 28, 1)\n",
      "187 train samples\n",
      "21 test samples\n"
     ]
    }
   ],
   "source": [
    "# input image dimensions\n",
    "img_rows, img_cols = 28, 28\n",
    "num_classes = 0\n",
    "\n",
    "if tf.keras.backend.image_data_format() == 'channels_first':\n",
    "  x_train = x_train.reshape(x_train.shape[0], 1, img_rows, img_cols)\n",
    "  x_test = x_test.reshape(x_test.shape[0], 1, img_rows, img_cols)\n",
    "  input_shape = (1, img_rows, img_cols)\n",
    "else:\n",
    "  x_train = x_train.reshape(x_train.shape[0], img_rows, img_cols, 1)\n",
    "  x_test = x_test.reshape(x_test.shape[0], img_rows, img_cols, 1)\n",
    "  input_shape = (img_rows, img_cols, 1)\n",
    "\n",
    "x_train = x_train.astype('float32')\n",
    "x_test = x_test.astype('float32')\n",
    "x_train /= 255\n",
    "x_test /= 255\n",
    "print('x_train shape:', x_train.shape)\n",
    "print(x_train.shape[0], 'train samples')\n",
    "print(x_test.shape[0], 'test samples')\n",
    "\n",
    "# convert class vectors to binary class matrices\n",
    "y_train = tf.keras.utils.to_categorical(y_train, num_classes)\n",
    "y_test = tf.keras.utils.to_categorical(y_test, num_classes)"
   ]
  },
  {
   "cell_type": "code",
   "execution_count": 13,
   "metadata": {},
   "outputs": [
    {
     "name": "stdout",
     "output_type": "stream",
     "text": [
      "Epoch 1/4\n",
      "16/19 [========================>.....] - ETA: 0s - loss: 0.3475 - accuracy: 0.8375INFO:tensorflow:Summary name prune_low_magnitude_conv2d_77/mask:0/sparsity is illegal; using prune_low_magnitude_conv2d_77/mask_0/sparsity instead.\n",
      "INFO:tensorflow:Summary name prune_low_magnitude_conv2d_78/mask:0/sparsity is illegal; using prune_low_magnitude_conv2d_78/mask_0/sparsity instead.\n",
      "INFO:tensorflow:Summary name prune_low_magnitude_conv2d_79/mask:0/sparsity is illegal; using prune_low_magnitude_conv2d_79/mask_0/sparsity instead.\n",
      "INFO:tensorflow:Summary name prune_low_magnitude_conv2d_80/mask:0/sparsity is illegal; using prune_low_magnitude_conv2d_80/mask_0/sparsity instead.\n",
      "INFO:tensorflow:Summary name prune_low_magnitude_dense_51/mask:0/sparsity is illegal; using prune_low_magnitude_dense_51/mask_0/sparsity instead.\n",
      "INFO:tensorflow:Summary name prune_low_magnitude_dense_52/mask:0/sparsity is illegal; using prune_low_magnitude_dense_52/mask_0/sparsity instead.\n",
      "INFO:tensorflow:Summary name prune_low_magnitude_dense_53/mask:0/sparsity is illegal; using prune_low_magnitude_dense_53/mask_0/sparsity instead.\n",
      "INFO:tensorflow:Summary name prune_low_magnitude_conv2d_77/threshold:0/threshold is illegal; using prune_low_magnitude_conv2d_77/threshold_0/threshold instead.\n",
      "INFO:tensorflow:Summary name prune_low_magnitude_conv2d_78/threshold:0/threshold is illegal; using prune_low_magnitude_conv2d_78/threshold_0/threshold instead.\n",
      "INFO:tensorflow:Summary name prune_low_magnitude_conv2d_79/threshold:0/threshold is illegal; using prune_low_magnitude_conv2d_79/threshold_0/threshold instead.\n",
      "INFO:tensorflow:Summary name prune_low_magnitude_conv2d_80/threshold:0/threshold is illegal; using prune_low_magnitude_conv2d_80/threshold_0/threshold instead.\n",
      "INFO:tensorflow:Summary name prune_low_magnitude_dense_51/threshold:0/threshold is illegal; using prune_low_magnitude_dense_51/threshold_0/threshold instead.\n",
      "INFO:tensorflow:Summary name prune_low_magnitude_dense_52/threshold:0/threshold is illegal; using prune_low_magnitude_dense_52/threshold_0/threshold instead.\n",
      "INFO:tensorflow:Summary name prune_low_magnitude_dense_53/threshold:0/threshold is illegal; using prune_low_magnitude_dense_53/threshold_0/threshold instead.\n",
      "19/19 [==============================] - 1s 30ms/step - loss: 0.3397 - accuracy: 0.8396 - val_loss: 0.6623 - val_accuracy: 0.9524\n",
      "Epoch 2/4\n",
      "15/19 [======================>.......] - ETA: 0s - loss: 0.1865 - accuracy: 0.9600INFO:tensorflow:Summary name prune_low_magnitude_conv2d_77/mask:0/sparsity is illegal; using prune_low_magnitude_conv2d_77/mask_0/sparsity instead.\n",
      "INFO:tensorflow:Summary name prune_low_magnitude_conv2d_78/mask:0/sparsity is illegal; using prune_low_magnitude_conv2d_78/mask_0/sparsity instead.\n",
      "INFO:tensorflow:Summary name prune_low_magnitude_conv2d_79/mask:0/sparsity is illegal; using prune_low_magnitude_conv2d_79/mask_0/sparsity instead.\n",
      "INFO:tensorflow:Summary name prune_low_magnitude_conv2d_80/mask:0/sparsity is illegal; using prune_low_magnitude_conv2d_80/mask_0/sparsity instead.\n",
      "INFO:tensorflow:Summary name prune_low_magnitude_dense_51/mask:0/sparsity is illegal; using prune_low_magnitude_dense_51/mask_0/sparsity instead.\n",
      "INFO:tensorflow:Summary name prune_low_magnitude_dense_52/mask:0/sparsity is illegal; using prune_low_magnitude_dense_52/mask_0/sparsity instead.\n",
      "INFO:tensorflow:Summary name prune_low_magnitude_dense_53/mask:0/sparsity is illegal; using prune_low_magnitude_dense_53/mask_0/sparsity instead.\n",
      "INFO:tensorflow:Summary name prune_low_magnitude_conv2d_77/threshold:0/threshold is illegal; using prune_low_magnitude_conv2d_77/threshold_0/threshold instead.\n",
      "INFO:tensorflow:Summary name prune_low_magnitude_conv2d_78/threshold:0/threshold is illegal; using prune_low_magnitude_conv2d_78/threshold_0/threshold instead.\n",
      "INFO:tensorflow:Summary name prune_low_magnitude_conv2d_79/threshold:0/threshold is illegal; using prune_low_magnitude_conv2d_79/threshold_0/threshold instead.\n",
      "INFO:tensorflow:Summary name prune_low_magnitude_conv2d_80/threshold:0/threshold is illegal; using prune_low_magnitude_conv2d_80/threshold_0/threshold instead.\n",
      "INFO:tensorflow:Summary name prune_low_magnitude_dense_51/threshold:0/threshold is illegal; using prune_low_magnitude_dense_51/threshold_0/threshold instead.\n",
      "INFO:tensorflow:Summary name prune_low_magnitude_dense_52/threshold:0/threshold is illegal; using prune_low_magnitude_dense_52/threshold_0/threshold instead.\n",
      "INFO:tensorflow:Summary name prune_low_magnitude_dense_53/threshold:0/threshold is illegal; using prune_low_magnitude_dense_53/threshold_0/threshold instead.\n",
      "19/19 [==============================] - 0s 15ms/step - loss: 0.1827 - accuracy: 0.9519 - val_loss: 0.2525 - val_accuracy: 1.0000\n",
      "Epoch 3/4\n",
      "16/19 [========================>.....] - ETA: 0s - loss: 0.1322 - accuracy: 0.9500INFO:tensorflow:Summary name prune_low_magnitude_conv2d_77/mask:0/sparsity is illegal; using prune_low_magnitude_conv2d_77/mask_0/sparsity instead.\n",
      "INFO:tensorflow:Summary name prune_low_magnitude_conv2d_78/mask:0/sparsity is illegal; using prune_low_magnitude_conv2d_78/mask_0/sparsity instead.\n",
      "INFO:tensorflow:Summary name prune_low_magnitude_conv2d_79/mask:0/sparsity is illegal; using prune_low_magnitude_conv2d_79/mask_0/sparsity instead.\n",
      "INFO:tensorflow:Summary name prune_low_magnitude_conv2d_80/mask:0/sparsity is illegal; using prune_low_magnitude_conv2d_80/mask_0/sparsity instead.\n",
      "INFO:tensorflow:Summary name prune_low_magnitude_dense_51/mask:0/sparsity is illegal; using prune_low_magnitude_dense_51/mask_0/sparsity instead.\n",
      "INFO:tensorflow:Summary name prune_low_magnitude_dense_52/mask:0/sparsity is illegal; using prune_low_magnitude_dense_52/mask_0/sparsity instead.\n",
      "INFO:tensorflow:Summary name prune_low_magnitude_dense_53/mask:0/sparsity is illegal; using prune_low_magnitude_dense_53/mask_0/sparsity instead.\n",
      "INFO:tensorflow:Summary name prune_low_magnitude_conv2d_77/threshold:0/threshold is illegal; using prune_low_magnitude_conv2d_77/threshold_0/threshold instead.\n",
      "INFO:tensorflow:Summary name prune_low_magnitude_conv2d_78/threshold:0/threshold is illegal; using prune_low_magnitude_conv2d_78/threshold_0/threshold instead.\n",
      "INFO:tensorflow:Summary name prune_low_magnitude_conv2d_79/threshold:0/threshold is illegal; using prune_low_magnitude_conv2d_79/threshold_0/threshold instead.\n",
      "INFO:tensorflow:Summary name prune_low_magnitude_conv2d_80/threshold:0/threshold is illegal; using prune_low_magnitude_conv2d_80/threshold_0/threshold instead.\n",
      "INFO:tensorflow:Summary name prune_low_magnitude_dense_51/threshold:0/threshold is illegal; using prune_low_magnitude_dense_51/threshold_0/threshold instead.\n",
      "INFO:tensorflow:Summary name prune_low_magnitude_dense_52/threshold:0/threshold is illegal; using prune_low_magnitude_dense_52/threshold_0/threshold instead.\n",
      "INFO:tensorflow:Summary name prune_low_magnitude_dense_53/threshold:0/threshold is illegal; using prune_low_magnitude_dense_53/threshold_0/threshold instead.\n",
      "19/19 [==============================] - 0s 15ms/step - loss: 0.1977 - accuracy: 0.9305 - val_loss: 0.8760 - val_accuracy: 0.9048\n",
      "Epoch 4/4\n",
      "16/19 [========================>.....] - ETA: 0s - loss: 0.1299 - accuracy: 0.9688INFO:tensorflow:Summary name prune_low_magnitude_conv2d_77/mask:0/sparsity is illegal; using prune_low_magnitude_conv2d_77/mask_0/sparsity instead.\n",
      "INFO:tensorflow:Summary name prune_low_magnitude_conv2d_78/mask:0/sparsity is illegal; using prune_low_magnitude_conv2d_78/mask_0/sparsity instead.\n",
      "INFO:tensorflow:Summary name prune_low_magnitude_conv2d_79/mask:0/sparsity is illegal; using prune_low_magnitude_conv2d_79/mask_0/sparsity instead.\n",
      "INFO:tensorflow:Summary name prune_low_magnitude_conv2d_80/mask:0/sparsity is illegal; using prune_low_magnitude_conv2d_80/mask_0/sparsity instead.\n",
      "INFO:tensorflow:Summary name prune_low_magnitude_dense_51/mask:0/sparsity is illegal; using prune_low_magnitude_dense_51/mask_0/sparsity instead.\n",
      "INFO:tensorflow:Summary name prune_low_magnitude_dense_52/mask:0/sparsity is illegal; using prune_low_magnitude_dense_52/mask_0/sparsity instead.\n",
      "INFO:tensorflow:Summary name prune_low_magnitude_dense_53/mask:0/sparsity is illegal; using prune_low_magnitude_dense_53/mask_0/sparsity instead.\n"
     ]
    },
    {
     "name": "stdout",
     "output_type": "stream",
     "text": [
      "INFO:tensorflow:Summary name prune_low_magnitude_conv2d_77/threshold:0/threshold is illegal; using prune_low_magnitude_conv2d_77/threshold_0/threshold instead.\n",
      "INFO:tensorflow:Summary name prune_low_magnitude_conv2d_78/threshold:0/threshold is illegal; using prune_low_magnitude_conv2d_78/threshold_0/threshold instead.\n",
      "INFO:tensorflow:Summary name prune_low_magnitude_conv2d_79/threshold:0/threshold is illegal; using prune_low_magnitude_conv2d_79/threshold_0/threshold instead.\n",
      "INFO:tensorflow:Summary name prune_low_magnitude_conv2d_80/threshold:0/threshold is illegal; using prune_low_magnitude_conv2d_80/threshold_0/threshold instead.\n",
      "INFO:tensorflow:Summary name prune_low_magnitude_dense_51/threshold:0/threshold is illegal; using prune_low_magnitude_dense_51/threshold_0/threshold instead.\n",
      "INFO:tensorflow:Summary name prune_low_magnitude_dense_52/threshold:0/threshold is illegal; using prune_low_magnitude_dense_52/threshold_0/threshold instead.\n",
      "INFO:tensorflow:Summary name prune_low_magnitude_dense_53/threshold:0/threshold is illegal; using prune_low_magnitude_dense_53/threshold_0/threshold instead.\n",
      "19/19 [==============================] - 0s 15ms/step - loss: 0.1186 - accuracy: 0.9733 - val_loss: 0.6501 - val_accuracy: 0.9524\n",
      "Test loss: 0.15320348739624023\n",
      "Test accuracy: 0.9523809552192688\n"
     ]
    }
   ],
   "source": [
    "callbacks = [\n",
    "    sparsity.UpdatePruningStep(),\n",
    "    sparsity.PruningSummaries(log_dir=logdir, profile_batch=0)\n",
    "]\n",
    "\n",
    "new_pruned_model.fit(x_train, y_train,\n",
    "          batch_size=batch_size,\n",
    "          epochs=epochs,\n",
    "          verbose=1,\n",
    "          callbacks=callbacks,\n",
    "          validation_data=(x_test, y_test))\n",
    "\n",
    "score = new_pruned_model.evaluate(x_test, y_test, verbose=0)\n",
    "print('Test loss:', score[0])\n",
    "print('Test accuracy:', score[1])"
   ]
  },
  {
   "cell_type": "code",
   "execution_count": 84,
   "metadata": {},
   "outputs": [
    {
     "name": "stdout",
     "output_type": "stream",
     "text": [
      "Model: \"sequential_17\"\n",
      "_________________________________________________________________\n",
      "Layer (type)                 Output Shape              Param #   \n",
      "=================================================================\n",
      "conv2d_77 (Conv2D)           (None, 28, 28, 16)        160       \n",
      "_________________________________________________________________\n",
      "max_pooling2d_77 (MaxPooling (None, 14, 14, 16)        0         \n",
      "_________________________________________________________________\n",
      "conv2d_78 (Conv2D)           (None, 14, 14, 32)        4640      \n",
      "_________________________________________________________________\n",
      "max_pooling2d_78 (MaxPooling (None, 7, 7, 32)          0         \n",
      "_________________________________________________________________\n",
      "conv2d_79 (Conv2D)           (None, 7, 7, 64)          18496     \n",
      "_________________________________________________________________\n",
      "max_pooling2d_79 (MaxPooling (None, 3, 3, 64)          0         \n",
      "_________________________________________________________________\n",
      "conv2d_80 (Conv2D)           (None, 3, 3, 128)         73856     \n",
      "_________________________________________________________________\n",
      "max_pooling2d_80 (MaxPooling (None, 1, 1, 128)         0         \n",
      "_________________________________________________________________\n",
      "flatten_17 (Flatten)         (None, 128)               0         \n",
      "_________________________________________________________________\n",
      "dense_51 (Dense)             (None, 512)               66048     \n",
      "_________________________________________________________________\n",
      "dense_52 (Dense)             (None, 256)               131328    \n",
      "_________________________________________________________________\n",
      "dense_53 (Dense)             (None, 2)                 514       \n",
      "=================================================================\n",
      "Total params: 295,042\n",
      "Trainable params: 295,042\n",
      "Non-trainable params: 0\n",
      "_________________________________________________________________\n"
     ]
    }
   ],
   "source": [
    "final_model = sparsity.strip_pruning(new_pruned_model)\n",
    "final_model.summary()"
   ]
  },
  {
   "cell_type": "code",
   "execution_count": 85,
   "metadata": {},
   "outputs": [
    {
     "name": "stdout",
     "output_type": "stream",
     "text": [
      "Saving pruned model to:  C:\\Users\\Z\\AppData\\Local\\Temp\\tmpv_snbjj0.h5\n"
     ]
    }
   ],
   "source": [
    "_, new_pruned_keras_file = tempfile.mkstemp('.h5')\n",
    "print('Saving pruned model to: ', new_pruned_keras_file)\n",
    "tf.keras.models.save_model(final_model, new_pruned_keras_file, \n",
    "                        include_optimizer=False)"
   ]
  },
  {
   "cell_type": "code",
   "execution_count": 86,
   "metadata": {},
   "outputs": [
    {
     "name": "stdout",
     "output_type": "stream",
     "text": [
      "Size of the pruned model before compression: 1.16 Mb\n",
      "Size of the pruned model after compression: 0.63 Mb\n"
     ]
    }
   ],
   "source": [
    "_, zip3 = tempfile.mkstemp('.zip')\n",
    "with zipfile.ZipFile(zip3, 'w', compression=zipfile.ZIP_DEFLATED) as f:\n",
    "  f.write(new_pruned_keras_file)\n",
    "print(\"Size of the pruned model before compression: %.2f Mb\" \n",
    "      % (os.path.getsize(new_pruned_keras_file) / float(2**20)))\n",
    "print(\"Size of the pruned model after compression: %.2f Mb\" \n",
    "      % (os.path.getsize(zip3) / float(2**20)))"
   ]
  },
  {
   "cell_type": "code",
   "execution_count": null,
   "metadata": {},
   "outputs": [],
   "source": []
  },
  {
   "cell_type": "code",
   "execution_count": null,
   "metadata": {},
   "outputs": [],
   "source": []
  }
 ],
 "metadata": {
  "kernelspec": {
   "display_name": "Python 3",
   "language": "python",
   "name": "python3"
  },
  "language_info": {
   "codemirror_mode": {
    "name": "ipython",
    "version": 3
   },
   "file_extension": ".py",
   "mimetype": "text/x-python",
   "name": "python",
   "nbconvert_exporter": "python",
   "pygments_lexer": "ipython3",
   "version": "3.7.4"
  }
 },
 "nbformat": 4,
 "nbformat_minor": 2
}
