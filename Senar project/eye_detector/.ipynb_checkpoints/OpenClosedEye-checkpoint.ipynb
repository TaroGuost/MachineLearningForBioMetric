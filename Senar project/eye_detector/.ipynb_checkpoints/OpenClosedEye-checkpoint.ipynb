{
 "cells": [
  {
   "cell_type": "code",
   "execution_count": 1,
   "metadata": {},
   "outputs": [
    {
     "data": {
      "text/plain": [
       "'\\nCreated on Mon Jun 10 15:40:22 2019\\n\\n@author: athomas7\\n'"
      ]
     },
     "execution_count": 1,
     "metadata": {},
     "output_type": "execute_result"
    }
   ],
   "source": [
    "# -*- coding: utf-8 -*-\n",
    "\"\"\"\n",
    "Created on Mon Jun 10 15:40:22 2019\n",
    "\n",
    "@author: athomas7\n",
    "\"\"\""
   ]
  },
  {
   "cell_type": "code",
   "execution_count": 2,
   "metadata": {
    "scrolled": true
   },
   "outputs": [
    {
     "data": {
      "text/plain": [
       "'\\ntrain_file = \"C:/SEPP19/Eye Tracking/Single Eye/train + test.zip\"\\n\\nimport zipfile\\n\\nzf = zipfile.ZipFile(train_file)\\nzf.extractall()\\n'"
      ]
     },
     "execution_count": 2,
     "metadata": {},
     "output_type": "execute_result"
    }
   ],
   "source": [
    "\"\"\"\n",
    "train_file = \"C:/SEPP19/Eye Tracking/Single Eye/train + test.zip\"\n",
    "\n",
    "import zipfile\n",
    "\n",
    "zf = zipfile.ZipFile(train_file)\n",
    "zf.extractall()\n",
    "\"\"\""
   ]
  },
  {
   "cell_type": "code",
   "execution_count": 3,
   "metadata": {},
   "outputs": [],
   "source": [
    "%load_ext tensorboard"
   ]
  },
  {
   "cell_type": "code",
   "execution_count": 1,
   "metadata": {},
   "outputs": [],
   "source": [
    "import os\n",
    "import cv2\n",
    "from time import time\n",
    "from sklearn.model_selection import train_test_split\n",
    "\n",
    "NB_START_EPOCHS = 100\n",
    "BATCH_SIZE = 64\n",
    "\n",
    "def load_image(file_path):\n",
    "    return cv2.imread(file_path)\n",
    "\n",
    "def extract_label(file_name):\n",
    "    return 1 if \"open\" in file_name else 0 # open eyes are 1 & closed eyes are 0\n",
    "\n",
    "train_path = \"gabor/gabor20-0/\"\n",
    "image_files = os.listdir(train_path)\n",
    "train_images = [load_image(train_path + file) for file in image_files]\n",
    "train_labels = [extract_label(file) for file in image_files]"
   ]
  },
  {
   "cell_type": "code",
   "execution_count": 2,
   "metadata": {},
   "outputs": [],
   "source": [
    "def deep_model(layer, X_train, y_train, X_valid, y_valid):\n",
    "    '''\n",
    "    Function to train a multi-class model. The number of epochs and \n",
    "    batch_size are set by the constants at the top of the\n",
    "    notebook. \n",
    "    \n",
    "    Parameters:\n",
    "        model : model with the chosen architecture\n",
    "        X_train : training features\n",
    "        y_train : training target\n",
    "        X_valid : validation features\n",
    "        Y_valid : validation target\n",
    "    Output:\n",
    "        model training history\n",
    "    '''\n",
    "    model = tf.keras.Sequential(layer)\n",
    "    model.compile(optimizer='nadam'\n",
    "                  , loss='sparse_categorical_crossentropy'\n",
    "                  , metrics=['accuracy'])\n",
    "    \n",
    "    history = model.fit(X_train\n",
    "                       , y_train\n",
    "                       , epochs=NB_START_EPOCHS\n",
    "                       , batch_size=BATCH_SIZE\n",
    "                       , validation_data=(X_valid, y_valid)\n",
    "                       , verbose=0)\n",
    "    return history"
   ]
  },
  {
   "cell_type": "code",
   "execution_count": 3,
   "metadata": {},
   "outputs": [],
   "source": [
    "def eval_metric(model, history, metric_name):\n",
    "    '''\n",
    "    Function to evaluate a trained model on a chosen metric. \n",
    "    Training and validation metric are plotted in a\n",
    "    line chart for each epoch.\n",
    "    \n",
    "    Parameters:\n",
    "        history : model training history\n",
    "        metric_name : loss or accuracy\n",
    "    Output:\n",
    "        line chart with epochs of x-axis and metric on\n",
    "        y-axis\n",
    "    '''\n",
    "    metric = history.history[metric_name]\n",
    "    val_metric = history.history['val_' + metric_name]\n",
    "    e = range(1, NB_START_EPOCHS + 1)\n",
    "    plt.plot(e, metric, 'bo', label='Train ' + metric_name)\n",
    "    plt.plot(e, val_metric, 'b', label='Validation ' + metric_name)\n",
    "    plt.xlabel('Epoch number')\n",
    "    plt.ylabel(metric_name)\n",
    "    plt.title('Comparing training and validation ' + metric_name + ' for ' + model.name)\n",
    "    plt.legend()\n",
    "    plt.show()"
   ]
  },
  {
   "cell_type": "code",
   "execution_count": 4,
   "metadata": {},
   "outputs": [],
   "source": [
    "def optimal_epoch(model_hist):\n",
    "    '''\n",
    "    Function to return the epoch number where the validation loss is\n",
    "    at its minimum\n",
    "    \n",
    "    Parameters:\n",
    "        model_hist : training history of model\n",
    "    Output:\n",
    "        epoch number with minimum validation loss\n",
    "    '''\n",
    "    min_epoch = np.argmin(model_hist.history['val_loss']) + 1\n",
    "    print(\"Minimum validation loss reached in epoch {}\".format(min_epoch))\n",
    "    return min_epoch"
   ]
  },
  {
   "cell_type": "code",
   "execution_count": 5,
   "metadata": {},
   "outputs": [],
   "source": [
    "# this will probably not be an issue with the real deal, since all images will be the same size\n",
    "# so we can re-train with that view from the pilot's eye from the instrument...\n",
    "def preprocess_image(img, side = 96): # number of pixels on the smallest side\n",
    "    # average eye aspect ratio is 1.87 by 1 (it requires an int, so I rounded 1.87 to 2)\n",
    "    eye_aspect_ratio = 2\n",
    "    min_side = min(img.shape[0], img.shape[1])\n",
    "    img = img[:min_side, :min_side * eye_aspect_ratio]\n",
    "    img = cv2.resize(img, (side * eye_aspect_ratio, side)) # average eye aspect ratio of 1.87 by 1\n",
    "    img = cv2.cvtColor(img, cv2.COLOR_BGR2GRAY)\n",
    "    return img / 255.0"
   ]
  },
  {
   "cell_type": "code",
   "execution_count": 6,
   "metadata": {},
   "outputs": [
    {
     "data": {
      "text/plain": [
       "<matplotlib.image.AxesImage at 0x7fb8e7b5a610>"
      ]
     },
     "execution_count": 6,
     "metadata": {},
     "output_type": "execute_result"
    },
    {
     "data": {
      "image/png": "[encoded data removed]",
      "text/plain": [
       "<Figure size 432x288 with 2 Axes>"
      ]
     },
     "metadata": {
      "needs_background": "light"
     },
     "output_type": "display_data"
    }
   ],
   "source": [
    "import matplotlib.pyplot as plt\n",
    "# %matplotlib inline\n",
    "preview_index = 50\n",
    "plt.subplot(1,2,1)\n",
    "plt.imshow(train_images[preview_index])\n",
    "plt.subplot(1,2,2)\n",
    "plt.imshow(preprocess_image(train_images[preview_index]), cmap=\"gray\")\n",
    "# some images are showing up wonky here b/c of your aspect ratio side multiplier ^^^\n",
    "# it does allow to get the entire eye within the frame though so worth it...\n",
    "# looks weird to us but the neural net will understand"
   ]
  },
  {
   "cell_type": "code",
   "execution_count": 7,
   "metadata": {},
   "outputs": [],
   "source": [
    "for i in range(len(train_images)):\n",
    "    train_images[i] = preprocess_image(train_images[i])"
   ]
  },
  {
   "cell_type": "code",
   "execution_count": 8,
   "metadata": {},
   "outputs": [],
   "source": [
    "import numpy as np\n",
    "\n",
    "train_images = np.expand_dims(train_images, axis = -1)\n",
    "train_labels = np.array(train_labels)"
   ]
  },
  {
   "cell_type": "code",
   "execution_count": 9,
   "metadata": {
    "scrolled": true
   },
   "outputs": [
    {
     "name": "stdout",
     "output_type": "stream",
     "text": [
      "(144, 96, 192, 1) (144,)\n"
     ]
    }
   ],
   "source": [
    "print(train_images.shape, train_labels.shape)"
   ]
  },
  {
   "cell_type": "code",
   "execution_count": 10,
   "metadata": {},
   "outputs": [],
   "source": [
    "X_train_rest, X_valid, y_train_rest, y_valid = train_test_split(train_images, train_labels, test_size=0.1, random_state=37)"
   ]
  },
  {
   "cell_type": "code",
   "execution_count": 11,
   "metadata": {},
   "outputs": [],
   "source": [
    "from tensorflow.python.keras.callbacks import TensorBoard\n",
    "from tensorflow.python.keras.callbacks import EarlyStopping\n",
    "from tensorflow.python.keras.callbacks import ModelCheckpoint\n",
    "tensorboard = None\n",
    "import tensorflow as tf"
   ]
  },
  {
   "cell_type": "code",
   "execution_count": 12,
   "metadata": {},
   "outputs": [],
   "source": [
    "# Optimizers = ['adam' , 'SGD' , 'RMSprop','adagrad','adadelta','adamax','nadam']\n",
    "Optimizers = ['adam' , 'adagrad' ,'nadam']\n",
    "Batch_Sizes = [16]\n",
    "Epoch_Sizes = [15]\n",
    "Activations = [tf.nn.relu , tf.nn.elu]\n",
    "Activation_name = ['relu' , 'elu' ]\n",
    "FilterSizes = [16,32,64,128,256]\n",
    "Kernel_Size = [3]\n",
    "PoolSize = [2]\n",
    "NumberOfHiddenLayer = [1,2,3]\n",
    "LayersCollection = []\n",
    "Optimizer_coll = []\n",
    "activition_coll = []\n",
    "Batch_size_coll = []\n",
    "Epoch_size_coll = []\n",
    "num_hidden_coll = []\n",
    "K_size = []\n",
    "Filetersize_coll = []\n",
    "pool_coll = []\n",
    "es = EarlyStopping(monitor='val_loss', mode = 'min' ,verbose =1 ,patience=10)"
   ]
  },
  {
   "cell_type": "code",
   "execution_count": 10,
   "metadata": {},
   "outputs": [],
   "source": [
    "def addFilterAndPool(Layer, Filtersize , ks , PoolSize , y , act):\n",
    "    count = y\n",
    "    while count < len(Filtersize):\n",
    "        Layer.append(tf.keras.layers.Conv2D(filters=Filtersize[count], kernel_size=(ks,ks), padding=\"same\", activation=act, input_shape=train_images.shape[1:]))\n",
    "        Layer.append(tf.keras.layers.MaxPool2D(pool_size=(PoolSize,PoolSize), strides=(PoolSize,PoolSize)))\n",
    "        count+=1"
   ]
  },
  {
   "cell_type": "code",
   "execution_count": 30,
   "metadata": {},
   "outputs": [],
   "source": [
    "def addHiddenLayer(Layer , num , Num_Hidden ,act):\n",
    "    temp = num*2\n",
    "    for i in range(Num_Hidden):\n",
    "        Layer.append(tf.keras.layers.Dense(units=temp , activation =act))\n",
    "        temp = temp/2\n",
    "    "
   ]
  },
  {
   "cell_type": "code",
   "execution_count": 15,
   "metadata": {},
   "outputs": [],
   "source": [
    "n = 0\n",
    "for i in range(len(Optimizers)):\n",
    "    for j in range(len(Batch_Sizes)):\n",
    "        for k in range(len(Epoch_Sizes)):\n",
    "            for x in range(len(Activations)):\n",
    "                for Num_Hidden in NumberOfHiddenLayer:\n",
    "                    for ks in Kernel_Size:\n",
    "                        for pool in PoolSize:\n",
    "                            if pool >= ks :\n",
    "                                break\n",
    "                            layers = []\n",
    "                            addFilterAndPool(layers , FilterSizes , ks , pool , 0, Activations[x])\n",
    "                            layers.append(tf.keras.layers.Flatten())\n",
    "                            addHiddenLayer(layers , 256 , Num_Hidden ,Activations[x])\n",
    "                            layers.append(tf.keras.layers.Dense(units=2, activation=tf.nn.softmax)) # probability for each of the classes (2 as of now));\n",
    "                            LayersCollection.append(layers)\n",
    "\n",
    "                            #collection inforamtion of each layer for furture reference\n",
    "                            Optimizer_coll.append(Optimizers[i]) \n",
    "                            activition_coll.append(Activation_name[x])\n",
    "                            Batch_size_coll.append(Batch_Sizes[j])\n",
    "                            Epoch_size_coll.append(Epoch_Sizes[k])\n",
    "                            num_hidden_coll.append(Num_Hidden)\n",
    "                            K_size.append(ks)\n",
    "                            pool_coll.append(pool)\n"
   ]
  },
  {
   "cell_type": "code",
   "execution_count": 31,
   "metadata": {},
   "outputs": [],
   "source": [
    "# for i in range(len(Batch_Sizes)):\n",
    "#     layers = [\n",
    "#         tf.keras.layers.Conv2D(filters=16, kernel_size=(3,3), padding=\"same\", activation=tf.nn.relu, input_shape=train_images.shape[1:]),\n",
    "#         tf.keras.layers.MaxPool2D(pool_size=(2,2), strides=(2,2)),\n",
    "#         tf.keras.layers.Conv2D(filters=32, kernel_size=(3,3), padding=\"same\", activation=tf.nn.relu, input_shape=train_images.shape[1:]),\n",
    "#         tf.keras.layers.MaxPool2D(pool_size=(2,2), strides=(2,2)),\n",
    "#         tf.keras.layers.Conv2D(filters=64, kernel_size=(3,3), padding=\"same\", activation=tf.nn.relu, input_shape=train_images.shape[1:]),\n",
    "#         tf.keras.layers.MaxPool2D(pool_size=(2,2), strides=(2,2)),\n",
    "#         tf.keras.layers.Conv2D(filters=128, kernel_size=(3,3), padding=\"same\", activation=tf.nn.relu, input_shape=train_images.shape[1:]),\n",
    "#         tf.keras.layers.MaxPool2D(pool_size=(2,2), strides=(2,2)),\n",
    "#         tf.keras.layers.Conv2D(filters=256, kernel_size=(3,3), padding=\"same\", activation=tf.nn.relu, input_shape=train_images.shape[1:]),\n",
    "#         tf.keras.layers.MaxPool2D(pool_size=(2,2), strides=(2,2)),\n",
    "#         tf.keras.layers.Flatten(),\n",
    "#         tf.keras.layers.Dense(units=512, activation=tf.nn.relu),\n",
    "#         tf.keras.layers.Dense(units=256, activation=tf.nn.relu),\n",
    "#         tf.keras.layers.Dense(units=2, activation=tf.nn.softmax) # probability for each of the classes (2 as of now)\n",
    "#     ]\n",
    "    \n",
    "#     LayersCollection.append(layers)"
   ]
  },
  {
   "cell_type": "code",
   "execution_count": 13,
   "metadata": {},
   "outputs": [],
   "source": [
    "layers = [\n",
    "        tf.keras.layers.Conv2D(filters=16, kernel_size=(5,5), padding=\"same\", activation=tf.nn.relu, input_shape=train_images.shape[1:]),\n",
    "        tf.keras.layers.MaxPool2D(pool_size=(2,2), strides=(2,2)),\n",
    "        tf.keras.layers.Conv2D(filters=32, kernel_size=(4,4),padding=\"same\", activation=tf.nn.relu, input_shape=train_images.shape[1:]),\n",
    "        tf.keras.layers.MaxPool2D(pool_size=(2,2), strides=(2,2) ),\n",
    "        tf.keras.layers.Flatten(),\n",
    "        tf.keras.layers.Dense(units=64,activation=tf.nn.relu),\n",
    "        tf.keras.layers.Dense(units=2, activation=tf.nn.softmax) # probability for each of the classes (2 as of now)\n",
    "    ]\n",
    "LayersCollection.clear()\n",
    "LayersCollection.append(layers)"
   ]
  },
  {
   "cell_type": "code",
   "execution_count": null,
   "metadata": {},
   "outputs": [],
   "source": []
  },
  {
   "cell_type": "code",
   "execution_count": 14,
   "metadata": {},
   "outputs": [
    {
     "name": "stdout",
     "output_type": "stream",
     "text": [
      "1\n",
      "0\n",
      "0\n",
      "0\n",
      "0\n",
      "0\n",
      "0\n",
      "0\n"
     ]
    }
   ],
   "source": [
    "print(len(LayersCollection))\n",
    "print(len(Optimizer_coll))\n",
    "print(len(activition_coll))\n",
    "print(len(Batch_size_coll))\n",
    "print(len(Epoch_size_coll))\n",
    "print(len(num_hidden_coll))\n",
    "print(len(K_size))\n",
    "print(len(pool_coll))"
   ]
  },
  {
   "cell_type": "code",
   "execution_count": null,
   "metadata": {},
   "outputs": [],
   "source": [
    "# # https://keras.io/optimizers/ (see Adam section)\n",
    "# # https://keras.io/losses/ (see sparse_categorical_accuracy)\n",
    "# model = tf.keras.Sequential(layers)\n",
    "# model.compile(optimizer='adam',\n",
    "#               # optimizer=tf.keras.optimizers.Adam(),\n",
    "#               # loss='binary_crossentropy',\n",
    "#               # loss=tf.losses.sparse_softmax_cross_entropy(),\n",
    "#               # loss=tf.keras.backend.sparse_categorical_crossentropy(),\n",
    "#               loss='sparse_categorical_crossentropy',\n",
    "#               metrics=['accuracy'])\n",
    "#               # metrics=[tf.metrics.accuracy()])\n",
    "# \"\"\" TensorFlow 2.0.0 Beta\n",
    "# model.compile(optimizer=tf.optimizers.Adam(),\n",
    "#               loss=tf.losses.SparseCategoricalCrossentropy(),\n",
    "#               metrics=[tf.metrics.SparseCategoricalAccuracy()])\n",
    "# \"\"\"\n",
    "# tensorboard = TensorBoard(log_dir=\"logs/{}\".format(time()))"
   ]
  },
  {
   "cell_type": "code",
   "execution_count": 14,
   "metadata": {
    "scrolled": true
   },
   "outputs": [
    {
     "name": "stdout",
     "output_type": "stream",
     "text": [
      "Epoch 00023: early stopping\n"
     ]
    },
    {
     "data": {
      "text/plain": [
       "<tensorflow.python.keras.callbacks.History at 0x7fb8cfb8e450>"
      ]
     },
     "execution_count": 14,
     "metadata": {},
     "output_type": "execute_result"
    }
   ],
   "source": [
    "model = tf.keras.Sequential(LayersCollection[0])\n",
    "model.compile(optimizer='nadam'\n",
    "                , loss='sparse_categorical_crossentropy'\n",
    "                , metrics=['accuracy'])\n",
    "    \n",
    "model.fit(X_train_rest\n",
    "                    , y_train_rest\n",
    "                    , epochs=30\n",
    "                    , batch_size=BATCH_SIZE\n",
    "                    , validation_data=(X_valid, y_valid)\n",
    "                    , verbose=0\n",
    "                    , callbacks=[es])\n",
    "#base_min = optimal_epoch(history)\n",
    "#eval_metric(model, history, 'loss')"
   ]
  },
  {
   "cell_type": "code",
   "execution_count": 14,
   "metadata": {},
   "outputs": [],
   "source": [
    "i = 0\n",
    "models = []\n",
    "\n",
    "for layer in LayersCollection:\n",
    "    # https://keras.io/optimizers/ (see Adam section)\n",
    "    # https://keras.io/losses/ (see sparse_categorical_accuracy)\n",
    "    model = tf.keras.Sequential(layer)\n",
    "    model.compile(optimizer='nadam',\n",
    "                    # optimizer=tf.keras.optimizers.Adam(),\n",
    "                    # loss='binary_crossentropy',\n",
    "                    # loss=tf.losses.sparse_softmax_cross_entropy(),\n",
    "                    # loss=tf.keras.backend.sparse_categorical_crossentropy(),\n",
    "                    loss='sparse_categorical_crossentropy',\n",
    "                    metrics=['accuracy'])\n",
    "                    # metrics=[tf.metrics.accuracy()])\n",
    "    \"\"\" TensorFlow 2.0.0 Beta\n",
    "    model.compile(optimizer=tf.optimizers.Adam(),\n",
    "                    loss=tf.losses.SparseCategoricalCrossentropy(),\n",
    "                    metrics=[tf.metrics.SparseCategoricalAccuracy()])\n",
    "    \"\"\"\n",
    "    models.append(model)\n",
    "#     print(Optimizer_coll[i])\n",
    "#     print(activition_coll[i])\n",
    "#     print(Batch_size_coll[i])\n",
    "#     print(Epoch_size_coll[i])\n",
    "#     print(num_hidden_coll[i])\n",
    "#     print(pool_coll[i])\n",
    "\n",
    "#     name = \"logs/OpenClosedEye_\" + Optimizer_coll[i] + activition_coll[i]+ str(i);  \n",
    "#     tensorboard = TensorBoard(log_dir=name)\n",
    "#     model.fit(train_images, train_labels, epochs=Epoch_size_coll[i], batch_size=Batch_size_coll[i] , callbacks=[tensorboard])\n",
    "#    model.save(\"model\"+str(i)+\".h5\")\n",
    "#     i+=1"
   ]
  },
  {
   "cell_type": "code",
   "execution_count": 15,
   "metadata": {},
   "outputs": [
    {
     "name": "stdout",
     "output_type": "stream",
     "text": [
      "Train on 144 samples\n",
      "Epoch 1/25\n",
      "144/144 [==============================] - 2s 16ms/sample - loss: 0.3173 - accuracy: 0.8681\n",
      "Epoch 2/25\n",
      "144/144 [==============================] - 2s 12ms/sample - loss: 0.3563 - accuracy: 0.8889\n",
      "Epoch 3/25\n",
      "144/144 [==============================] - 2s 11ms/sample - loss: 0.1860 - accuracy: 0.9306\n",
      "Epoch 4/25\n",
      "144/144 [==============================] - 2s 12ms/sample - loss: 0.1306 - accuracy: 0.9375\n",
      "Epoch 5/25\n",
      "144/144 [==============================] - 2s 11ms/sample - loss: 0.0900 - accuracy: 0.9722\n",
      "Epoch 6/25\n",
      "144/144 [==============================] - 2s 12ms/sample - loss: 0.0588 - accuracy: 0.9861\n",
      "Epoch 7/25\n",
      "144/144 [==============================] - 2s 16ms/sample - loss: 0.0266 - accuracy: 0.9931\n",
      "Epoch 8/25\n",
      "144/144 [==============================] - 2s 13ms/sample - loss: 0.0109 - accuracy: 1.0000\n",
      "Epoch 9/25\n",
      "144/144 [==============================] - 2s 13ms/sample - loss: 0.0046 - accuracy: 1.0000\n",
      "Epoch 10/25\n",
      "144/144 [==============================] - 2s 12ms/sample - loss: 0.0028 - accuracy: 1.0000\n",
      "Epoch 11/25\n",
      "144/144 [==============================] - 2s 13ms/sample - loss: 0.0018 - accuracy: 1.0000\n",
      "Epoch 12/25\n",
      "144/144 [==============================] - 2s 14ms/sample - loss: 0.0013 - accuracy: 1.0000\n",
      "Epoch 13/25\n",
      "144/144 [==============================] - 2s 14ms/sample - loss: 9.7972e-04 - accuracy: 1.0000\n",
      "Epoch 14/25\n",
      "144/144 [==============================] - 2s 15ms/sample - loss: 8.3516e-04 - accuracy: 1.0000\n",
      "Epoch 15/25\n",
      "144/144 [==============================] - 2s 15ms/sample - loss: 6.6973e-04 - accuracy: 1.0000\n",
      "Epoch 16/25\n",
      "144/144 [==============================] - 2s 15ms/sample - loss: 5.7655e-04 - accuracy: 1.0000\n",
      "Epoch 17/25\n",
      "144/144 [==============================] - 2s 16ms/sample - loss: 4.9645e-04 - accuracy: 1.0000\n",
      "Epoch 18/25\n",
      "144/144 [==============================] - 3s 18ms/sample - loss: 4.3922e-04 - accuracy: 1.0000\n",
      "Epoch 19/25\n",
      "144/144 [==============================] - 2s 16ms/sample - loss: 3.7950e-04 - accuracy: 1.0000\n",
      "Epoch 20/25\n",
      "144/144 [==============================] - 2s 17ms/sample - loss: 3.3267e-04 - accuracy: 1.0000\n",
      "Epoch 21/25\n",
      "144/144 [==============================] - 2s 15ms/sample - loss: 2.9125e-04 - accuracy: 1.0000\n",
      "Epoch 22/25\n",
      "144/144 [==============================] - 2s 15ms/sample - loss: 2.5851e-04 - accuracy: 1.0000\n",
      "Epoch 23/25\n",
      "144/144 [==============================] - 2s 14ms/sample - loss: 2.3778e-04 - accuracy: 1.0000\n",
      "Epoch 24/25\n",
      "144/144 [==============================] - 2s 15ms/sample - loss: 2.1811e-04 - accuracy: 1.0000\n",
      "Epoch 25/25\n",
      "144/144 [==============================] - 2s 15ms/sample - loss: 1.9215e-04 - accuracy: 1.0000\n"
     ]
    }
   ],
   "source": [
    "# Training the model\n",
    "import time\n",
    "i = 0\n",
    "for model in models:\n",
    "    name = \"logs/OpenClosedEye_with_Batchsize\" + str(i)\n",
    "    tensorboard = TensorBoard(log_dir=name)\n",
    "    model.fit(train_images, train_labels, epochs=25, batch_size=Batch_Sizes[i%len(Batch_Sizes)] , callbacks=[tensorboard])\n",
    "    i = i+1\n",
    "#     model.save_weights(\"model\"+str(i)+\"tf\")\n",
    "#     model.save(\"model\"+str(i)+\".h5\")"
   ]
  },
  {
   "cell_type": "code",
   "execution_count": 14,
   "metadata": {},
   "outputs": [
    {
     "data": {
      "text/html": [
       "\n",
       "      <iframe id=\"tensorboard-frame-5335fc81ff67f6aa\" width=\"100%\" height=\"800\" frameborder=\"0\">\n",
       "      </iframe>\n",
       "      <script>\n",
       "        (function() {\n",
       "          const frame = document.getElementById(\"tensorboard-frame-5335fc81ff67f6aa\");\n",
       "          const url = new URL(\"/\", window.location);\n",
       "          url.port = 6006;\n",
       "          frame.src = url;\n",
       "        })();\n",
       "      </script>\n",
       "  "
      ],
      "text/plain": [
       "<IPython.core.display.HTML object>"
      ]
     },
     "metadata": {},
     "output_type": "display_data"
    }
   ],
   "source": [
    "%tensorboard --logdir logs"
   ]
  },
  {
   "cell_type": "code",
   "execution_count": 93,
   "metadata": {
    "scrolled": true
   },
   "outputs": [
    {
     "ename": "OSError",
     "evalue": "Unable to open file (unable to open file: name = 'model0.h5', errno = 2, error message = 'No such file or directory', flags = 0, o_flags = 0)",
     "output_type": "error",
     "traceback": [
      "\u001b[0;31m---------------------------------------------------------------------------\u001b[0m",
      "\u001b[0;31mOSError\u001b[0m                                   Traceback (most recent call last)",
      "\u001b[0;32m<ipython-input-93-09f9ceecf261>\u001b[0m in \u001b[0;36m<module>\u001b[0;34m\u001b[0m\n\u001b[1;32m     14\u001b[0m \u001b[0;31m# eval_images = [preprocess_image(load_image(file)) for file in uploads].keys()]\u001b[0m\u001b[0;34m\u001b[0m\u001b[0;34m\u001b[0m\u001b[0;34m\u001b[0m\u001b[0m\n\u001b[1;32m     15\u001b[0m \u001b[0meval_model\u001b[0m \u001b[0;34m=\u001b[0m \u001b[0mtf\u001b[0m\u001b[0;34m.\u001b[0m\u001b[0mkeras\u001b[0m\u001b[0;34m.\u001b[0m\u001b[0mSequential\u001b[0m\u001b[0;34m(\u001b[0m\u001b[0mLayersCollection\u001b[0m\u001b[0;34m[\u001b[0m\u001b[0;36m0\u001b[0m\u001b[0;34m]\u001b[0m\u001b[0;34m)\u001b[0m\u001b[0;34m\u001b[0m\u001b[0;34m\u001b[0m\u001b[0m\n\u001b[0;32m---> 16\u001b[0;31m \u001b[0meval_model\u001b[0m\u001b[0;34m.\u001b[0m\u001b[0mload_weights\u001b[0m\u001b[0;34m(\u001b[0m\u001b[0;34m\"model0.h5\"\u001b[0m\u001b[0;34m)\u001b[0m\u001b[0;34m\u001b[0m\u001b[0;34m\u001b[0m\u001b[0m\n\u001b[0m\u001b[1;32m     17\u001b[0m \u001b[0meval_predictions\u001b[0m \u001b[0;34m=\u001b[0m \u001b[0meval_model\u001b[0m\u001b[0;34m.\u001b[0m\u001b[0mpredict\u001b[0m\u001b[0;34m(\u001b[0m\u001b[0mnp\u001b[0m\u001b[0;34m.\u001b[0m\u001b[0mexpand_dims\u001b[0m\u001b[0;34m(\u001b[0m\u001b[0meval_images\u001b[0m\u001b[0;34m,\u001b[0m \u001b[0maxis\u001b[0m \u001b[0;34m=\u001b[0m \u001b[0;34m-\u001b[0m\u001b[0;36m1\u001b[0m\u001b[0;34m)\u001b[0m\u001b[0;34m)\u001b[0m\u001b[0;34m\u001b[0m\u001b[0;34m\u001b[0m\u001b[0m\n\u001b[1;32m     18\u001b[0m \u001b[0;34m\u001b[0m\u001b[0m\n",
      "\u001b[0;32m~/anaconda3/envs/spyder/lib/python3.7/site-packages/tensorflow_core/python/keras/engine/training.py\u001b[0m in \u001b[0;36mload_weights\u001b[0;34m(self, filepath, by_name, skip_mismatch)\u001b[0m\n\u001b[1;32m    232\u001b[0m         raise ValueError('Load weights is not yet supported with TPUStrategy '\n\u001b[1;32m    233\u001b[0m                          'with steps_per_run greater than 1.')\n\u001b[0;32m--> 234\u001b[0;31m     \u001b[0;32mreturn\u001b[0m \u001b[0msuper\u001b[0m\u001b[0;34m(\u001b[0m\u001b[0mModel\u001b[0m\u001b[0;34m,\u001b[0m \u001b[0mself\u001b[0m\u001b[0;34m)\u001b[0m\u001b[0;34m.\u001b[0m\u001b[0mload_weights\u001b[0m\u001b[0;34m(\u001b[0m\u001b[0mfilepath\u001b[0m\u001b[0;34m,\u001b[0m \u001b[0mby_name\u001b[0m\u001b[0;34m,\u001b[0m \u001b[0mskip_mismatch\u001b[0m\u001b[0;34m)\u001b[0m\u001b[0;34m\u001b[0m\u001b[0;34m\u001b[0m\u001b[0m\n\u001b[0m\u001b[1;32m    235\u001b[0m \u001b[0;34m\u001b[0m\u001b[0m\n\u001b[1;32m    236\u001b[0m   \u001b[0;34m@\u001b[0m\u001b[0mtrackable\u001b[0m\u001b[0;34m.\u001b[0m\u001b[0mno_automatic_dependency_tracking\u001b[0m\u001b[0;34m\u001b[0m\u001b[0;34m\u001b[0m\u001b[0m\n",
      "\u001b[0;32m~/anaconda3/envs/spyder/lib/python3.7/site-packages/tensorflow_core/python/keras/engine/network.py\u001b[0m in \u001b[0;36mload_weights\u001b[0;34m(self, filepath, by_name, skip_mismatch)\u001b[0m\n\u001b[1;32m   1213\u001b[0m           'first, then load the weights.')\n\u001b[1;32m   1214\u001b[0m     \u001b[0mself\u001b[0m\u001b[0;34m.\u001b[0m\u001b[0m_assert_weights_created\u001b[0m\u001b[0;34m(\u001b[0m\u001b[0;34m)\u001b[0m\u001b[0;34m\u001b[0m\u001b[0;34m\u001b[0m\u001b[0m\n\u001b[0;32m-> 1215\u001b[0;31m     \u001b[0;32mwith\u001b[0m \u001b[0mh5py\u001b[0m\u001b[0;34m.\u001b[0m\u001b[0mFile\u001b[0m\u001b[0;34m(\u001b[0m\u001b[0mfilepath\u001b[0m\u001b[0;34m,\u001b[0m \u001b[0;34m'r'\u001b[0m\u001b[0;34m)\u001b[0m \u001b[0;32mas\u001b[0m \u001b[0mf\u001b[0m\u001b[0;34m:\u001b[0m\u001b[0;34m\u001b[0m\u001b[0;34m\u001b[0m\u001b[0m\n\u001b[0m\u001b[1;32m   1216\u001b[0m       \u001b[0;32mif\u001b[0m \u001b[0;34m'layer_names'\u001b[0m \u001b[0;32mnot\u001b[0m \u001b[0;32min\u001b[0m \u001b[0mf\u001b[0m\u001b[0;34m.\u001b[0m\u001b[0mattrs\u001b[0m \u001b[0;32mand\u001b[0m \u001b[0;34m'model_weights'\u001b[0m \u001b[0;32min\u001b[0m \u001b[0mf\u001b[0m\u001b[0;34m:\u001b[0m\u001b[0;34m\u001b[0m\u001b[0;34m\u001b[0m\u001b[0m\n\u001b[1;32m   1217\u001b[0m         \u001b[0mf\u001b[0m \u001b[0;34m=\u001b[0m \u001b[0mf\u001b[0m\u001b[0;34m[\u001b[0m\u001b[0;34m'model_weights'\u001b[0m\u001b[0;34m]\u001b[0m\u001b[0;34m\u001b[0m\u001b[0;34m\u001b[0m\u001b[0m\n",
      "\u001b[0;32m~/anaconda3/envs/spyder/lib/python3.7/site-packages/h5py/_hl/files.py\u001b[0m in \u001b[0;36m__init__\u001b[0;34m(self, name, mode, driver, libver, userblock_size, swmr, **kwds)\u001b[0m\n\u001b[1;32m    310\u001b[0m             \u001b[0;32mwith\u001b[0m \u001b[0mphil\u001b[0m\u001b[0;34m:\u001b[0m\u001b[0;34m\u001b[0m\u001b[0;34m\u001b[0m\u001b[0m\n\u001b[1;32m    311\u001b[0m                 \u001b[0mfapl\u001b[0m \u001b[0;34m=\u001b[0m \u001b[0mmake_fapl\u001b[0m\u001b[0;34m(\u001b[0m\u001b[0mdriver\u001b[0m\u001b[0;34m,\u001b[0m \u001b[0mlibver\u001b[0m\u001b[0;34m,\u001b[0m \u001b[0;34m**\u001b[0m\u001b[0mkwds\u001b[0m\u001b[0;34m)\u001b[0m\u001b[0;34m\u001b[0m\u001b[0;34m\u001b[0m\u001b[0m\n\u001b[0;32m--> 312\u001b[0;31m                 \u001b[0mfid\u001b[0m \u001b[0;34m=\u001b[0m \u001b[0mmake_fid\u001b[0m\u001b[0;34m(\u001b[0m\u001b[0mname\u001b[0m\u001b[0;34m,\u001b[0m \u001b[0mmode\u001b[0m\u001b[0;34m,\u001b[0m \u001b[0muserblock_size\u001b[0m\u001b[0;34m,\u001b[0m \u001b[0mfapl\u001b[0m\u001b[0;34m,\u001b[0m \u001b[0mswmr\u001b[0m\u001b[0;34m=\u001b[0m\u001b[0mswmr\u001b[0m\u001b[0;34m)\u001b[0m\u001b[0;34m\u001b[0m\u001b[0;34m\u001b[0m\u001b[0m\n\u001b[0m\u001b[1;32m    313\u001b[0m \u001b[0;34m\u001b[0m\u001b[0m\n\u001b[1;32m    314\u001b[0m                 \u001b[0;32mif\u001b[0m \u001b[0mswmr_support\u001b[0m\u001b[0;34m:\u001b[0m\u001b[0;34m\u001b[0m\u001b[0;34m\u001b[0m\u001b[0m\n",
      "\u001b[0;32m~/anaconda3/envs/spyder/lib/python3.7/site-packages/h5py/_hl/files.py\u001b[0m in \u001b[0;36mmake_fid\u001b[0;34m(name, mode, userblock_size, fapl, fcpl, swmr)\u001b[0m\n\u001b[1;32m    140\u001b[0m         \u001b[0;32mif\u001b[0m \u001b[0mswmr\u001b[0m \u001b[0;32mand\u001b[0m \u001b[0mswmr_support\u001b[0m\u001b[0;34m:\u001b[0m\u001b[0;34m\u001b[0m\u001b[0;34m\u001b[0m\u001b[0m\n\u001b[1;32m    141\u001b[0m             \u001b[0mflags\u001b[0m \u001b[0;34m|=\u001b[0m \u001b[0mh5f\u001b[0m\u001b[0;34m.\u001b[0m\u001b[0mACC_SWMR_READ\u001b[0m\u001b[0;34m\u001b[0m\u001b[0;34m\u001b[0m\u001b[0m\n\u001b[0;32m--> 142\u001b[0;31m         \u001b[0mfid\u001b[0m \u001b[0;34m=\u001b[0m \u001b[0mh5f\u001b[0m\u001b[0;34m.\u001b[0m\u001b[0mopen\u001b[0m\u001b[0;34m(\u001b[0m\u001b[0mname\u001b[0m\u001b[0;34m,\u001b[0m \u001b[0mflags\u001b[0m\u001b[0;34m,\u001b[0m \u001b[0mfapl\u001b[0m\u001b[0;34m=\u001b[0m\u001b[0mfapl\u001b[0m\u001b[0;34m)\u001b[0m\u001b[0;34m\u001b[0m\u001b[0;34m\u001b[0m\u001b[0m\n\u001b[0m\u001b[1;32m    143\u001b[0m     \u001b[0;32melif\u001b[0m \u001b[0mmode\u001b[0m \u001b[0;34m==\u001b[0m \u001b[0;34m'r+'\u001b[0m\u001b[0;34m:\u001b[0m\u001b[0;34m\u001b[0m\u001b[0;34m\u001b[0m\u001b[0m\n\u001b[1;32m    144\u001b[0m         \u001b[0mfid\u001b[0m \u001b[0;34m=\u001b[0m \u001b[0mh5f\u001b[0m\u001b[0;34m.\u001b[0m\u001b[0mopen\u001b[0m\u001b[0;34m(\u001b[0m\u001b[0mname\u001b[0m\u001b[0;34m,\u001b[0m \u001b[0mh5f\u001b[0m\u001b[0;34m.\u001b[0m\u001b[0mACC_RDWR\u001b[0m\u001b[0;34m,\u001b[0m \u001b[0mfapl\u001b[0m\u001b[0;34m=\u001b[0m\u001b[0mfapl\u001b[0m\u001b[0;34m)\u001b[0m\u001b[0;34m\u001b[0m\u001b[0;34m\u001b[0m\u001b[0m\n",
      "\u001b[0;32mh5py/_objects.pyx\u001b[0m in \u001b[0;36mh5py._objects.with_phil.wrapper\u001b[0;34m()\u001b[0m\n",
      "\u001b[0;32mh5py/_objects.pyx\u001b[0m in \u001b[0;36mh5py._objects.with_phil.wrapper\u001b[0;34m()\u001b[0m\n",
      "\u001b[0;32mh5py/h5f.pyx\u001b[0m in \u001b[0;36mh5py.h5f.open\u001b[0;34m()\u001b[0m\n",
      "\u001b[0;31mOSError\u001b[0m: Unable to open file (unable to open file: name = 'model0.h5', errno = 2, error message = 'No such file or directory', flags = 0, o_flags = 0)"
     ]
    }
   ],
   "source": [
    "import pickle\n",
    "import cv2\n",
    "\n",
    "test_file = \"closed_eye_75.jpg\"\n",
    "uploads = cv2.imread(\"test/\" + test_file)\n",
    "\n",
    "\"\"\" For Multiple Images...\n",
    "import glob\n",
    "import cv2\n",
    "images = [cv2.imread(file) for file in glob.glob(\"path/to/files/*.png\")]\n",
    "\"\"\"\n",
    "\n",
    "eval_images = [preprocess_image(uploads)] # must be an array because of the for-loop below\n",
    "# eval_images = [preprocess_image(load_image(file)) for file in uploads].keys()]\n",
    "eval_model = tf.keras.Sequential(LayersCollection[0])\n",
    "eval_model.load_weights(\"model0.h5\")\n",
    "eval_predictions = eval_model.predict(np.expand_dims(eval_images, axis = -1))\n",
    "\n",
    "cols = 4\n",
    "rows = np.ceil(len(eval_images)/cols)\n",
    "fig = plt.gcf()\n",
    "fig.set_size_inches(cols*4, rows*4)\n",
    "for i in range(len(eval_images)):\n",
    "    plt.subplot(rows, cols, i+1)\n",
    "    plt.imshow(eval_images[i], cmap=\"gray\")\n",
    "    plt.title(\"Open\" if np.argmax(eval_predictions[i])==1 else \"Closed\")\n",
    "    plt.axis('off')"
   ]
  },
  {
   "cell_type": "code",
   "execution_count": 15,
   "metadata": {},
   "outputs": [
    {
     "ename": "NameError",
     "evalue": "name 'models' is not defined",
     "output_type": "error",
     "traceback": [
      "\u001b[0;31m---------------------------------------------------------------------------\u001b[0m",
      "\u001b[0;31mNameError\u001b[0m                                 Traceback (most recent call last)",
      "\u001b[0;32m<ipython-input-15-faa34c4b5a7a>\u001b[0m in \u001b[0;36m<module>\u001b[0;34m\u001b[0m\n\u001b[1;32m     28\u001b[0m                                 \u001b[0mtemp\u001b[0m \u001b[0;34m=\u001b[0m \u001b[0;34m[\u001b[0m\u001b[0mpreprocess_image\u001b[0m\u001b[0;34m(\u001b[0m\u001b[0mtemp\u001b[0m\u001b[0;34m)\u001b[0m\u001b[0;34m]\u001b[0m\u001b[0;34m\u001b[0m\u001b[0;34m\u001b[0m\u001b[0m\n\u001b[1;32m     29\u001b[0m                                 \u001b[0mbegin_time\u001b[0m \u001b[0;34m=\u001b[0m \u001b[0mint\u001b[0m\u001b[0;34m(\u001b[0m\u001b[0mround\u001b[0m\u001b[0;34m(\u001b[0m\u001b[0mtime\u001b[0m\u001b[0;34m.\u001b[0m\u001b[0mtime\u001b[0m\u001b[0;34m(\u001b[0m\u001b[0;34m)\u001b[0m \u001b[0;34m*\u001b[0m \u001b[0;36m1000\u001b[0m\u001b[0;34m)\u001b[0m\u001b[0;34m)\u001b[0m\u001b[0;34m\u001b[0m\u001b[0;34m\u001b[0m\u001b[0m\n\u001b[0;32m---> 30\u001b[0;31m                                 \u001b[0meval_model\u001b[0m \u001b[0;34m=\u001b[0m \u001b[0mmodels\u001b[0m\u001b[0;34m[\u001b[0m\u001b[0mx\u001b[0m\u001b[0;34m]\u001b[0m\u001b[0;34m\u001b[0m\u001b[0;34m\u001b[0m\u001b[0m\n\u001b[0m\u001b[1;32m     31\u001b[0m                                 \u001b[0meval_predictions\u001b[0m \u001b[0;34m=\u001b[0m \u001b[0meval_model\u001b[0m\u001b[0;34m.\u001b[0m\u001b[0mpredict\u001b[0m\u001b[0;34m(\u001b[0m\u001b[0mnp\u001b[0m\u001b[0;34m.\u001b[0m\u001b[0mexpand_dims\u001b[0m\u001b[0;34m(\u001b[0m\u001b[0mtemp\u001b[0m \u001b[0;34m,\u001b[0m \u001b[0maxis\u001b[0m\u001b[0;34m=\u001b[0m \u001b[0;34m-\u001b[0m\u001b[0;36m1\u001b[0m\u001b[0;34m)\u001b[0m\u001b[0;34m)\u001b[0m\u001b[0;34m\u001b[0m\u001b[0;34m\u001b[0m\u001b[0m\n\u001b[1;32m     32\u001b[0m                                 \u001b[0mend_time\u001b[0m \u001b[0;34m=\u001b[0m \u001b[0mint\u001b[0m\u001b[0;34m(\u001b[0m\u001b[0mround\u001b[0m\u001b[0;34m(\u001b[0m\u001b[0mtime\u001b[0m\u001b[0;34m.\u001b[0m\u001b[0mtime\u001b[0m\u001b[0;34m(\u001b[0m\u001b[0;34m)\u001b[0m \u001b[0;34m*\u001b[0m \u001b[0;36m1000\u001b[0m\u001b[0;34m)\u001b[0m\u001b[0;34m)\u001b[0m\u001b[0;34m\u001b[0m\u001b[0;34m\u001b[0m\u001b[0m\n",
      "\u001b[0;31mNameError\u001b[0m: name 'models' is not defined"
     ]
    }
   ],
   "source": [
    "test_path = \"gabor/gabor20-0_test/\"\n",
    "test_files = os.listdir(test_path)\n",
    "test_images = [load_image(test_path + file) for file in test_files]\n",
    "test_labels = [extract_label(file) for file in test_files]\n",
    "\n",
    "# eval_model = tf.keras.Sequential(layers)\n",
    "# eval_model.load_weights(\"model.h5\")\n",
    "\n",
    "import time\n",
    "\n",
    "above = []\n",
    "lantancys = []\n",
    "accur = []\n",
    "\n",
    "j = 0\n",
    "\n",
    "for f in range(len(Optimizers)):\n",
    "    for a in range(len(Batch_Sizes)):\n",
    "        for k in range(len(Epoch_Sizes)):\n",
    "            for x in range(len(Activations)):\n",
    "                for Num_Hidden in NumberOfHiddenLayer:\n",
    "                    for ks in Kernel_Size:\n",
    "                        for pool in PoolSize:\n",
    "                            right = 0\n",
    "                            total = 0\n",
    "                            for i in range(len(test_images)):\n",
    "                                temp = test_images[i]\n",
    "                                temp = [preprocess_image(temp)]\n",
    "                                begin_time = int(round(time.time() * 1000))\n",
    "                                eval_model = models[x]\n",
    "                                eval_predictions = eval_model.predict(np.expand_dims(temp , axis= -1))\n",
    "                                end_time = int(round(time.time() * 1000))\n",
    "                                if (test_labels[i] == 1 and np.argmax(eval_predictions[0])==1) or (test_labels[i] == 0 and np.argmax(eval_predictions[0])!=1):\n",
    "                                    right+=1\n",
    "                                total+= end_time-begin_time\n",
    "\n",
    "                            print(\"accuracy for \",j,\" is :\",right/64*100 , \"%\")\n",
    "                            print(\"time spent for \" ,j, \" is : \" , total , \"ms\")\n",
    "                            j = j +1\n",
    "                            above.append(x)\n",
    "                            lantancys.append(total)\n",
    "                            accur.append(right/64*100)\n"
   ]
  },
  {
   "cell_type": "code",
   "execution_count": null,
   "metadata": {},
   "outputs": [],
   "source": [
    "# Optimizer_coll = []\n",
    "# activition_coll = []\n",
    "# Batch_size_coll = []\n",
    "# Epoch_size_coll = []\n",
    "# num_hidden_coll = []\n",
    "# Filetersize_coll = []\n",
    "# pool_coll = []"
   ]
  },
  {
   "cell_type": "code",
   "execution_count": 25,
   "metadata": {},
   "outputs": [
    {
     "name": "stdout",
     "output_type": "stream",
     "text": [
      "[3, 6, 8, 9, 15, 19, 20, 24, 26, 27, 30, 31, 33, 34, 37, 39, 40, 41, 42, 43, 45, 48, 49]\n"
     ]
    }
   ],
   "source": [
    "print(above)"
   ]
  },
  {
   "cell_type": "code",
   "execution_count": 34,
   "metadata": {},
   "outputs": [
    {
     "name": "stdout",
     "output_type": "stream",
     "text": [
      "optmizer: adam ,Activition function: relu ,Num of hiddenlayer: 2 ,Kernel size:  3  with lantancys : 28.609375 ms   ,accurancy:  98.4375 %\n",
      "optmizer: adam ,Activition function: relu ,Num of hiddenlayer: 3 ,Kernel size:  3  with lantancys : 28.453125 ms   ,accurancy:  98.4375 %\n",
      "optmizer: adam ,Activition function: relu ,Num of hiddenlayer: 3 ,Kernel size:  5  with lantancys : 31.6875 ms   ,accurancy:  100.0 %\n",
      "optmizer: adam ,Activition function: elu ,Num of hiddenlayer: 1 ,Kernel size:  3  with lantancys : 28.53125 ms   ,accurancy:  98.4375 %\n",
      "optmizer: adam ,Activition function: elu ,Num of hiddenlayer: 3 ,Kernel size:  3  with lantancys : 29.03125 ms   ,accurancy:  100.0 %\n",
      "optmizer: adagrad ,Activition function: relu ,Num of hiddenlayer: 1 ,Kernel size:  4  with lantancys : 29.515625 ms   ,accurancy:  98.4375 %\n",
      "optmizer: adagrad ,Activition function: relu ,Num of hiddenlayer: 1 ,Kernel size:  5  with lantancys : 31.78125 ms   ,accurancy:  98.4375 %\n",
      "optmizer: adagrad ,Activition function: relu ,Num of hiddenlayer: 3 ,Kernel size:  3  with lantancys : 28.78125 ms   ,accurancy:  98.4375 %\n",
      "optmizer: adagrad ,Activition function: relu ,Num of hiddenlayer: 3 ,Kernel size:  5  with lantancys : 37.328125 ms   ,accurancy:  98.4375 %\n",
      "optmizer: adagrad ,Activition function: elu ,Num of hiddenlayer: 1 ,Kernel size:  3  with lantancys : 28.96875 ms   ,accurancy:  100.0 %\n",
      "optmizer: adagrad ,Activition function: elu ,Num of hiddenlayer: 2 ,Kernel size:  3  with lantancys : 28.71875 ms   ,accurancy:  100.0 %\n",
      "optmizer: adagrad ,Activition function: elu ,Num of hiddenlayer: 2 ,Kernel size:  4  with lantancys : 30.328125 ms   ,accurancy:  98.4375 %\n",
      "optmizer: adagrad ,Activition function: elu ,Num of hiddenlayer: 3 ,Kernel size:  3  with lantancys : 28.5625 ms   ,accurancy:  100.0 %\n",
      "optmizer: adagrad ,Activition function: elu ,Num of hiddenlayer: 3 ,Kernel size:  4  with lantancys : 29.90625 ms   ,accurancy:  98.4375 %\n",
      "optmizer: nadam ,Activition function: relu ,Num of hiddenlayer: 1 ,Kernel size:  4  with lantancys : 29.234375 ms   ,accurancy:  98.4375 %\n",
      "optmizer: nadam ,Activition function: relu ,Num of hiddenlayer: 2 ,Kernel size:  3  with lantancys : 28.0625 ms   ,accurancy:  100.0 %\n",
      "optmizer: nadam ,Activition function: relu ,Num of hiddenlayer: 2 ,Kernel size:  4  with lantancys : 29.796875 ms   ,accurancy:  100.0 %\n",
      "optmizer: nadam ,Activition function: relu ,Num of hiddenlayer: 2 ,Kernel size:  5  with lantancys : 31.421875 ms   ,accurancy:  98.4375 %\n",
      "optmizer: nadam ,Activition function: relu ,Num of hiddenlayer: 3 ,Kernel size:  3  with lantancys : 28.203125 ms   ,accurancy:  98.4375 %\n",
      "optmizer: nadam ,Activition function: relu ,Num of hiddenlayer: 3 ,Kernel size:  4  with lantancys : 30.109375 ms   ,accurancy:  98.4375 %\n",
      "optmizer: nadam ,Activition function: elu ,Num of hiddenlayer: 1 ,Kernel size:  3  with lantancys : 28.515625 ms   ,accurancy:  98.4375 %\n",
      "optmizer: nadam ,Activition function: elu ,Num of hiddenlayer: 2 ,Kernel size:  3  with lantancys : 29.28125 ms   ,accurancy:  98.4375 %\n",
      "optmizer: nadam ,Activition function: elu ,Num of hiddenlayer: 2 ,Kernel size:  4  with lantancys : 29.734375 ms   ,accurancy:  98.4375 %\n"
     ]
    }
   ],
   "source": [
    "for i , j , k in zip(above, lantancys , accur):\n",
    "    print(\"optmizer:\" , Optimizer_coll[i] , \",Activition function:\", activition_coll[i] , \",Num of hiddenlayer:\" , num_hidden_coll[i] ,\",Kernel size: \", K_size[i] , \" with lantancys :\" , j/64 , \"ms\", \"  ,accurancy: \" , k , \"%\")"
   ]
  },
  {
   "cell_type": "code",
   "execution_count": null,
   "metadata": {},
   "outputs": [],
   "source": []
  },
  {
   "cell_type": "code",
   "execution_count": null,
   "metadata": {},
   "outputs": [],
   "source": [
    "print(train_labels)"
   ]
  },
  {
   "cell_type": "code",
   "execution_count": null,
   "metadata": {
    "scrolled": true
   },
   "outputs": [],
   "source": [
    "import numpy as np\n",
    "img_arr = np.array(preprocess_image(uploads))\n",
    "print(len(img_arr.flatten()))"
   ]
  },
  {
   "cell_type": "code",
   "execution_count": null,
   "metadata": {},
   "outputs": [],
   "source": []
  }
 ],
 "metadata": {
  "kernelspec": {
   "display_name": "Python 3",
   "language": "python",
   "name": "python3"
  },
  "language_info": {
   "codemirror_mode": {
    "name": "ipython",
    "version": 3
   },
   "file_extension": ".py",
   "mimetype": "text/x-python",
   "name": "python",
   "nbconvert_exporter": "python",
   "pygments_lexer": "ipython3",
   "version": "3.7.6"
  }
 },
 "nbformat": 4,
 "nbformat_minor": 4
}
